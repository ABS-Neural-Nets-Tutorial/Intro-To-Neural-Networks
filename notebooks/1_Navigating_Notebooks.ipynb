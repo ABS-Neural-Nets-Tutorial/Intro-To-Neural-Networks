{
 "cells": [
  {
   "cell_type": "markdown",
   "id": "f936d3c4-6de4-4acf-8827-d3cc6e5cd485",
   "metadata": {
    "tags": []
   },
   "source": [
    "![banner](../static/banner.png)\n",
    "\n",
    "---"
   ]
  },
  {
   "cell_type": "markdown",
   "id": "5f80e307-de6e-4dcb-82fe-ce79d31a0ca8",
   "metadata": {},
   "source": [
    "# Part 1 - Navigating Jupyter Notebooks 📚\n",
    "- Explain what notebooks are\n",
    "- Show some of the basics \n",
    "    - Creating a new document\n",
    "    - Creating new cells\n",
    "    - Types of cells\n",
    "    - Concept of code chunks\n",
    "    - Running chunks\n",
    "    - Clearing outputs\n",
    "    - Checking kernel is assigned after period of inactivity\n",
    "    - Be careful about closing! This environment doesn't save things permanently... use download or save to browser storage buttons regularly? Times out if not interacting...\n",
    "    - Navigating documents (sidebar, TOC, collapsing headings)\n",
    "    - Useful hotkeys\n",
    "- Give some examples of why they're useful!\n",
    "---"
   ]
  },
  {
   "cell_type": "markdown",
   "id": "f0fa5b83-98d7-4ecd-9b60-8aadc1e54e55",
   "metadata": {
    "tags": []
   },
   "source": [
    "## ↪️ Next up: [Part 2 👩‍💻 - Learning the ropes of coding in R](./2_Intro_to_R.ipynb)\n"
   ]
  }
 ],
 "metadata": {
  "kernelspec": {
   "display_name": "R",
   "language": "R",
   "name": "ir"
  },
  "language_info": {
   "codemirror_mode": "r",
   "file_extension": ".r",
   "mimetype": "text/x-r-source",
   "name": "R",
   "pygments_lexer": "r",
   "version": "4.1.2"
  }
 },
 "nbformat": 4,
 "nbformat_minor": 5
}
