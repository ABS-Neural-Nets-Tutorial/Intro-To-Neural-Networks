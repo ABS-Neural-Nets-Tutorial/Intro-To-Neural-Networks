{
 "cells": [
  {
   "cell_type": "markdown",
   "id": "f936d3c4-6de4-4acf-8827-d3cc6e5cd485",
   "metadata": {
    "tags": []
   },
   "source": [
    "![banner](../static/banner.png)\n",
    "\n",
    "---"
   ]
  },
  {
   "cell_type": "markdown",
   "id": "5f80e307-de6e-4dcb-82fe-ce79d31a0ca8",
   "metadata": {
    "tags": []
   },
   "source": [
    "# Part 1 - Navigating Jupyter Notebooks 📚"
   ]
  },
  {
   "cell_type": "markdown",
   "id": "6ac616a1-a5f1-4dc0-ad6b-4ef220467b0c",
   "metadata": {
    "tags": []
   },
   "source": [
    "## Why Notebooks?"
   ]
  },
  {
   "cell_type": "markdown",
   "id": "88d6f567-f218-4fc7-9897-7027cf0773f0",
   "metadata": {
    "tags": []
   },
   "source": [
    "For a long time, if you wanted to get computers to do things, you'd find yoursel doing something like this:\n",
    "![Analog computing](../static/analog.png)\n",
    "\n",
    "Eventually, programming moved from an analog art to a digital one, and things started to look more like this:\n",
    "![Digital computing](../static/digital.png)\n",
    "\n",
    "As digital technology developed, it became more common to see programming environments that look something like this:\n",
    "\n",
    "![Modern programming](../static/modern.png)\n",
    "\n",
    "While things have certainly become more convenient, accessible and colourful, all the above methods of interacting with computers have fundamentally been designed around making it easy for the user to **do their own work**. That makes sense, after all, who doesn't like a bit of personal convenience?\n",
    "\n",
    "But as computing continues to become more pervasive, writing software and analysing data are now of interest to many more people than before. So as the times change, so do the tools, and we need tools that help us **share and learn with others**.\n",
    "\n",
    "That's where Notebooks come in!"
   ]
  },
  {
   "cell_type": "markdown",
   "id": "35ef54e4-69d0-460c-a253-b6d73f67d402",
   "metadata": {},
   "source": [
    "## What are Notebooks?\n",
    "\n",
    "\n",
    "## How do I use Jupyter Notebooks?\n",
    "\n",
    "- Explain what notebooks are\n",
    "- Show some of the basics \n",
    "    - Creating a new document\n",
    "    - Creating new cells\n",
    "    - Types of cells\n",
    "    - Concept of code chunks\n",
    "    - Running chunks\n",
    "    - Clearing outputs\n",
    "    - Collapsing cells\n",
    "    - Checking kernel is assigned after period of inactivity\n",
    "    - Be careful about closing! This environment doesn't save things permanently... use download or save to browser storage buttons regularly? Times out if not interacting...\n",
    "    - Navigating documents (sidebar, TOC, collapsing headings)\n",
    "    - Useful hotkeys\n",
    "    - https://jupyter.org/index.html\n",
    "- Give some examples of why they're useful!\n",
    "---"
   ]
  },
  {
   "cell_type": "markdown",
   "id": "f0fa5b83-98d7-4ecd-9b60-8aadc1e54e55",
   "metadata": {
    "tags": []
   },
   "source": [
    "## ↪️ Next up: [Part 2 👩‍💻 - Learning the ropes of coding in R](./2_Learning_R.ipynb)\n"
   ]
  }
 ],
 "metadata": {
  "kernelspec": {
   "display_name": "R",
   "language": "R",
   "name": "ir"
  },
  "language_info": {
   "codemirror_mode": "r",
   "file_extension": ".r",
   "mimetype": "text/x-r-source",
   "name": "R",
   "pygments_lexer": "r",
   "version": "4.1.2"
  }
 },
 "nbformat": 4,
 "nbformat_minor": 5
}
