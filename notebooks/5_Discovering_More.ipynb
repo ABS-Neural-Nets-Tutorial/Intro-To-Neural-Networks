{
 "cells": [
  {
   "cell_type": "markdown",
   "id": "c0a17ff3-0cd2-46a3-a6e9-5e63c5f06ef2",
   "metadata": {
    "tags": []
   },
   "source": [
    "![banner](../static/banner.png)\n",
    "\n",
    "---"
   ]
  },
  {
   "cell_type": "markdown",
   "id": "19be7f51-9e45-4130-9f76-0ac32176d54a",
   "metadata": {
    "tags": []
   },
   "source": [
    "# Part 5 - Discovering more 🚀\n",
    "And thats a wrap! Thanks for attending, we hope you learned a bunch about neural networks and had some fun. If you're interested in learning more, check out the resources and recommendations below:"
   ]
  },
  {
   "cell_type": "markdown",
   "id": "0b61e7b6-b7f5-4f62-8026-a301b96ab973",
   "metadata": {},
   "source": [
    "## Important things we didn't cover but probably really should have ⚠️\n",
    "- Tuning hyper-parameters\n",
    "- Loss functions\n",
    "- Creating networks with multiple layers\n",
    "- Efficient/practical training of networks using stochastic gradient descent\n",
    "- Comparing NNs against other statistical methods\n",
    "\n",
    "## Want to learn more about coding in R? 🧑🏻‍💻\n",
    "- Learn more about [Jupyter Notebooks](https://jupyterlab.readthedocs.io/en/stable/user/notebook.html) and the [Jupyter Lab interface](https://jupyterlab.readthedocs.io/en/stable/user/interface.html) from the official documentation.\n",
    "- [Hands-On Programming with R, Garrett Grolemund](https://rstudio-education.github.io/hopr/) - A brief, project based introduction to R\n",
    "- [Introduction to Programming with R](https://discdown.org/rprogramming/) - A slightly longer, more thorough, but still beginner friendly introduction to R\n",
    "- [R-Studio Education](https://education.rstudio.com/learn/beginner/) - Lots of cool resources here!\n",
    "- [Stack overflow](https://stackoverflow.com/questions/tagged/r) - For finding solutions to common problems.\n",
    "- Ask your colleagues!\n",
    "\n",
    "## Want to learn more about neural networks and/or machine learning more broadly? 🤖\n",
    "- **Join our next session on Neural Networks on Tuesday December 7th!**\n",
    "- Join the ABS Machine Learning Community of Practice \n",
    "- [3Blue1Brown Neural networks series](https://www.youtube.com/playlist?list=PLZHQObOWTQDNU6R1_67000Dx_ZCJB-3pi) - **Highly recommended**, fantastic visual and intuitive introduction.\n",
    "- [StatsQuest youtube channel](https://www.youtube.com/playlist?list=PLblh5JKOoLUIxGDQs4LFFD--41Vzf-ME1) - Another entertaining and super instructive introduction to neural networks!\n",
    "- [Kaggle](https://www.kaggle.com/) - Learn from others and find lots of free data sets to play with!\n",
    "- [Neural Networks and Deep Learning, Michael Nielsen](http://neuralnetworksanddeeplearning.com/) - A thorough, beginner friendly written introduction.\n",
    "- [MNIST neural network visualised](https://www.cs.ryerson.ca/~aharley/vis/fc/)\n"
   ]
  }
 ],
 "metadata": {
  "kernelspec": {
   "display_name": "R",
   "language": "R",
   "name": "ir"
  },
  "language_info": {
   "codemirror_mode": "r",
   "file_extension": ".r",
   "mimetype": "text/x-r-source",
   "name": "R",
   "pygments_lexer": "r",
   "version": "4.1.2"
  }
 },
 "nbformat": 4,
 "nbformat_minor": 5
}
