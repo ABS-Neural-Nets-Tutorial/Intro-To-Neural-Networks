{
 "cells": [
  {
   "cell_type": "markdown",
   "id": "84b43f2a-d878-4810-9bc9-f53405de991f",
   "metadata": {},
   "source": [
    "![banner](../static/banner.png)\n",
    "\n",
    "---"
   ]
  },
  {
   "cell_type": "markdown",
   "id": "f7c8e03b-69d4-478c-abe7-c9886e8d50c6",
   "metadata": {},
   "source": [
    "# Part 2 - Learning the ropes of coding in R  👩‍💻"
   ]
  },
  {
   "cell_type": "markdown",
   "id": "bdd9d2e5-3484-4115-8995-a39f38cdec05",
   "metadata": {
    "tags": []
   },
   "source": [
    "If you've never coded before, haven't had much practice or are new to R in particular, don't fret! Below, we introduce all the bits and pieces you need in order to understand our neural network code. Read and run the cells below to see how R works."
   ]
  },
  {
   "cell_type": "markdown",
   "id": "a02bfde4-0136-4d14-b425-e1a490425f6e",
   "metadata": {},
   "source": [
    "## Arithmetic 🔢\n",
    "We can use R like a calculator to perform simple arithmetic. "
   ]
  },
  {
   "cell_type": "code",
   "execution_count": 1,
   "id": "0d38a869-7f22-4c06-a296-14e06bcccc55",
   "metadata": {},
   "outputs": [
    {
     "data": {
      "text/html": [
       "7"
      ],
      "text/latex": [
       "7"
      ],
      "text/markdown": [
       "7"
      ],
      "text/plain": [
       "[1] 7"
      ]
     },
     "metadata": {},
     "output_type": "display_data"
    }
   ],
   "source": [
    "3 + 4"
   ]
  },
  {
   "cell_type": "code",
   "execution_count": 2,
   "id": "18e1c927-04fa-4464-a611-629ed6852a9d",
   "metadata": {},
   "outputs": [
    {
     "data": {
      "text/html": [
       "-3"
      ],
      "text/latex": [
       "-3"
      ],
      "text/markdown": [
       "-3"
      ],
      "text/plain": [
       "[1] -3"
      ]
     },
     "metadata": {},
     "output_type": "display_data"
    }
   ],
   "source": [
    "4 - 7"
   ]
  },
  {
   "cell_type": "code",
   "execution_count": 3,
   "id": "e68fb20e-245a-45c1-8971-83c299be810f",
   "metadata": {},
   "outputs": [
    {
     "data": {
      "text/html": [
       "21.32"
      ],
      "text/latex": [
       "21.32"
      ],
      "text/markdown": [
       "21.32"
      ],
      "text/plain": [
       "[1] 21.32"
      ]
     },
     "metadata": {},
     "output_type": "display_data"
    }
   ],
   "source": [
    "2.6 * 8.2"
   ]
  },
  {
   "cell_type": "code",
   "execution_count": 4,
   "id": "9aed77ec-d777-4a79-a4be-551cf2e4b268",
   "metadata": {},
   "outputs": [
    {
     "data": {
      "text/html": [
       "FALSE"
      ],
      "text/latex": [
       "FALSE"
      ],
      "text/markdown": [
       "FALSE"
      ],
      "text/plain": [
       "[1] FALSE"
      ]
     },
     "metadata": {},
     "output_type": "display_data"
    }
   ],
   "source": [
    "2 + 2 == 5"
   ]
  },
  {
   "cell_type": "markdown",
   "id": "a9b2bc70-3dff-4807-afe8-5194a46a404d",
   "metadata": {},
   "source": [
    "**Note:** Lines of code with a `#` out the front are called **comments**. Comments are ignored by the computer when it runs code, and are used to help explain things about the code to other humans."
   ]
  },
  {
   "cell_type": "code",
   "execution_count": 14,
   "id": "5e791acd-403d-4790-a62b-9c08d187e397",
   "metadata": {},
   "outputs": [
    {
     "data": {
      "text/html": [
       "5"
      ],
      "text/latex": [
       "5"
      ],
      "text/markdown": [
       "5"
      ],
      "text/plain": [
       "[1] 5"
      ]
     },
     "metadata": {},
     "output_type": "display_data"
    }
   ],
   "source": [
    "# The line below will not result in a 4 being printed, as it's not code, it's a comment. \n",
    "# 2 + 2\n",
    "\n",
    "# But 5 will be printed!\n",
    "2 + 3"
   ]
  },
  {
   "cell_type": "markdown",
   "id": "32976e0d-2363-4dad-95c7-d3816c688f1c",
   "metadata": {},
   "source": [
    "### <font color='#F89536'> **Your turn!** </font>"
   ]
  },
  {
   "cell_type": "markdown",
   "id": "957df072-974a-45e4-b428-f7113296c882",
   "metadata": {},
   "source": [
    "1. Calculate four divided by five, times six plus seven below"
   ]
  },
  {
   "cell_type": "code",
   "execution_count": 17,
   "id": "900fccd5-0d89-44dd-ac83-19f3e051fc35",
   "metadata": {},
   "outputs": [],
   "source": [
    "# Write code here!"
   ]
  },
  {
   "cell_type": "markdown",
   "id": "cfa388a1-7d6e-4564-9c03-d0f46da58d33",
   "metadata": {},
   "source": [
    "2. What does the code below calculate?"
   ]
  },
  {
   "cell_type": "code",
   "execution_count": null,
   "id": "7f124720-0222-4d58-85f6-ebbc6d84a068",
   "metadata": {
    "tags": []
   },
   "outputs": [],
   "source": [
    "2 ** 5"
   ]
  },
  {
   "cell_type": "markdown",
   "id": "181bed44-0503-4636-ba1e-e727176cd707",
   "metadata": {},
   "source": [
    "3. Comment out the code line below."
   ]
  },
  {
   "cell_type": "code",
   "execution_count": null,
   "id": "8ce77a30-db2c-4a5c-a443-772b3b598045",
   "metadata": {},
   "outputs": [],
   "source": [
    "matrix(runif(1000), nrow = 200)"
   ]
  },
  {
   "cell_type": "markdown",
   "id": "d9b47eda-47f3-45bb-9099-7bc70a2daba6",
   "metadata": {},
   "source": [
    "## Variables 🍱\n",
    "Variables store data, so that it can be referenced again later on. For example, say we wanted to create a variable called `lucky_number` and we wanted to store in this variable the value `8`."
   ]
  },
  {
   "cell_type": "code",
   "execution_count": 8,
   "id": "7edf5fdf-d28c-434e-94c4-76032ca04ab2",
   "metadata": {},
   "outputs": [],
   "source": [
    "lucky_number = 8"
   ]
  },
  {
   "cell_type": "markdown",
   "id": "7c2f3749-329f-4481-b38b-bf6e349e03d9",
   "metadata": {},
   "source": [
    "We might not use that value now, but it is stored so we can use it later. Let's try printing it now:"
   ]
  },
  {
   "cell_type": "code",
   "execution_count": 9,
   "id": "4597d51b-f7f0-4ba3-b796-9aae8f088076",
   "metadata": {},
   "outputs": [
    {
     "data": {
      "text/html": [
       "8"
      ],
      "text/latex": [
       "8"
      ],
      "text/markdown": [
       "8"
      ],
      "text/plain": [
       "[1] 8"
      ]
     },
     "metadata": {},
     "output_type": "display_data"
    }
   ],
   "source": [
    "lucky_number"
   ]
  },
  {
   "cell_type": "markdown",
   "id": "c28ec22a-d851-4f91-9857-15e3d0769664",
   "metadata": {},
   "source": [
    "Variables can be used in place of wherever you would normally use their contents. For example, if we have a variable that holds ad number, we can use it in arithmetic."
   ]
  },
  {
   "cell_type": "code",
   "execution_count": 11,
   "id": "25a7c77b-538e-4227-81c1-919d95636f0f",
   "metadata": {},
   "outputs": [
    {
     "data": {
      "text/html": [
       "12"
      ],
      "text/latex": [
       "12"
      ],
      "text/markdown": [
       "12"
      ],
      "text/plain": [
       "[1] 12"
      ]
     },
     "metadata": {},
     "output_type": "display_data"
    }
   ],
   "source": [
    "unlucky_number = 4 \n",
    "\n",
    "lucky_number + unlucky_number"
   ]
  },
  {
   "cell_type": "markdown",
   "id": "605ca760-4f7c-44ed-bee0-8b3158382ccf",
   "metadata": {},
   "source": [
    "### <font color='#F89536'> **Your turn!** </font>"
   ]
  },
  {
   "cell_type": "markdown",
   "id": "314982c3-654f-4670-98a4-00c0e3e784cb",
   "metadata": {
    "tags": []
   },
   "source": [
    "1. Store your the month and the day you were born in two separate variables."
   ]
  },
  {
   "cell_type": "code",
   "execution_count": 21,
   "id": "8f59beba-6490-492a-b6d8-62cabc458c1b",
   "metadata": {},
   "outputs": [],
   "source": [
    "# Write your code here"
   ]
  },
  {
   "cell_type": "markdown",
   "id": "0476a775-1d24-414c-9e63-f9a379032334",
   "metadata": {},
   "source": [
    "2. Above we set `lucky_number = 8`. What happens if we try to set it equal to something different?"
   ]
  },
  {
   "cell_type": "code",
   "execution_count": 21,
   "id": "662caa68-99c1-4edb-8bc4-361e0c0e4c3e",
   "metadata": {},
   "outputs": [],
   "source": [
    "# Write your code here"
   ]
  },
  {
   "cell_type": "markdown",
   "id": "5f1c7528-1323-46ec-80ae-4dfba04125ff",
   "metadata": {},
   "source": [
    "3. What happens if you try to print `pi` or `letters`?"
   ]
  },
  {
   "cell_type": "code",
   "execution_count": 31,
   "id": "286c1a35-cef9-4b71-933d-5dfefe2c2bf2",
   "metadata": {},
   "outputs": [],
   "source": [
    "# Write your code here"
   ]
  },
  {
   "cell_type": "markdown",
   "id": "8d1ccdb8-373c-4045-98ba-0425d1ac2c88",
   "metadata": {},
   "source": [
    "## Data types 🔣\n",
    "When programming we use more than just numbers! The number `8` and the word `lucky` can both be considered data, but they're quite different in form and how they can be used. While we know how to halve `8`, what would it mean to halve the word `lucky`? Programming langauges often categorise data based on their structure and uses into what are called **data types**. \n",
    "\n",
    "Some of the more common data types include:\n",
    "\n",
    "- Integers, like `8`\n",
    "- Decimal numbers, like `2.421`\n",
    "- Strings (an ordered arrangement of characters), like `I <3 memes!`\n",
    "- Vectors (collections of objects of the same type), like `(1, 2, 3)`\n",
    "- Boolean values, either `True` or `False`\n",
    "\n",
    "There are many more types, and they are all often given slightly different names by different languages. \n",
    "\n",
    "In practice, strings in R are written enclosed in `\"quotation marks\"`, vectors written like inside a pair of parentheses with a c at the front, `c()`, and booleans as `TRUE` and `FALSE`."
   ]
  },
  {
   "cell_type": "code",
   "execution_count": 1,
   "id": "c3efa289-7db9-47b4-935c-4c034bd9637d",
   "metadata": {},
   "outputs": [],
   "source": [
    "DPA_overdue = TRUE # Boolean (or logical)\n",
    "why = \"does skype refuse to share my screen\" # String\n",
    "rest_and_stretch_breaks = 6.3 # Decimal (or numeric)\n",
    "free_tea_bags = 0 # Integer\n",
    "numbers = c(1,1,2,3,5,8,13,21,34,55) # Vector"
   ]
  },
  {
   "cell_type": "markdown",
   "id": "3bb33712-da15-4294-8c9c-32d5d1068da4",
   "metadata": {},
   "source": [
    "It's often useful to have a vector of ascending whole numbers. To do this, we can use the `:` for shorthand."
   ]
  },
  {
   "cell_type": "code",
   "execution_count": 5,
   "id": "b2405d74-d7f6-48b1-b92e-b2f4840027f9",
   "metadata": {},
   "outputs": [
    {
     "data": {
      "text/html": [
       "<style>\n",
       ".list-inline {list-style: none; margin:0; padding: 0}\n",
       ".list-inline>li {display: inline-block}\n",
       ".list-inline>li:not(:last-child)::after {content: \"\\00b7\"; padding: 0 .5ex}\n",
       "</style>\n",
       "<ol class=list-inline><li>5</li><li>6</li><li>7</li><li>8</li><li>9</li></ol>\n"
      ],
      "text/latex": [
       "\\begin{enumerate*}\n",
       "\\item 5\n",
       "\\item 6\n",
       "\\item 7\n",
       "\\item 8\n",
       "\\item 9\n",
       "\\end{enumerate*}\n"
      ],
      "text/markdown": [
       "1. 5\n",
       "2. 6\n",
       "3. 7\n",
       "4. 8\n",
       "5. 9\n",
       "\n",
       "\n"
      ],
      "text/plain": [
       "[1] 5 6 7 8 9"
      ]
     },
     "metadata": {},
     "output_type": "display_data"
    }
   ],
   "source": [
    "5:9"
   ]
  },
  {
   "cell_type": "markdown",
   "id": "5f8aea3c-d0e1-4114-93d2-6e434a0a3608",
   "metadata": {},
   "source": [
    "We can access the **elements** (entries) in a vector by using the position it is in:"
   ]
  },
  {
   "cell_type": "code",
   "execution_count": 35,
   "id": "248a6039-1385-4fe9-a1bf-1068fe231fbf",
   "metadata": {},
   "outputs": [
    {
     "data": {
      "text/html": [
       "1"
      ],
      "text/latex": [
       "1"
      ],
      "text/markdown": [
       "1"
      ],
      "text/plain": [
       "[1] 1"
      ]
     },
     "metadata": {},
     "output_type": "display_data"
    },
    {
     "data": {
      "text/html": [
       "2"
      ],
      "text/latex": [
       "2"
      ],
      "text/markdown": [
       "2"
      ],
      "text/plain": [
       "[1] 2"
      ]
     },
     "metadata": {},
     "output_type": "display_data"
    },
    {
     "data": {
      "text/html": [
       "<style>\n",
       ".list-inline {list-style: none; margin:0; padding: 0}\n",
       ".list-inline>li {display: inline-block}\n",
       ".list-inline>li:not(:last-child)::after {content: \"\\00b7\"; padding: 0 .5ex}\n",
       "</style>\n",
       "<ol class=list-inline><li>1</li><li>1</li><li>2</li><li>3</li></ol>\n"
      ],
      "text/latex": [
       "\\begin{enumerate*}\n",
       "\\item 1\n",
       "\\item 1\n",
       "\\item 2\n",
       "\\item 3\n",
       "\\end{enumerate*}\n"
      ],
      "text/markdown": [
       "1. 1\n",
       "2. 1\n",
       "3. 2\n",
       "4. 3\n",
       "\n",
       "\n"
      ],
      "text/plain": [
       "[1] 1 1 2 3"
      ]
     },
     "metadata": {},
     "output_type": "display_data"
    }
   ],
   "source": [
    "numbers[1]\n",
    "numbers[3]\n",
    "numbers[1:4]"
   ]
  },
  {
   "cell_type": "markdown",
   "id": "326f8a63-3dc7-43cf-9597-e502ec438498",
   "metadata": {},
   "source": [
    "### <font color='#F89536'> **Your turn!** </font>"
   ]
  },
  {
   "cell_type": "markdown",
   "id": "c7d8c0da-522b-4ee3-9d0d-e219aab6de0d",
   "metadata": {
    "tags": []
   },
   "source": [
    "1. What happens when you place two strings (separated by a comma) inside `paste()`? "
   ]
  },
  {
   "cell_type": "code",
   "execution_count": 21,
   "id": "18945bd6-b198-46dc-b24a-15ab1663410e",
   "metadata": {},
   "outputs": [],
   "source": [
    "# Write your code here"
   ]
  },
  {
   "cell_type": "markdown",
   "id": "0cdbd22a-8e68-4b50-8944-e1856c901959",
   "metadata": {},
   "source": [
    "2. Create a vector containing all numbers from 20 to 25, and store it as a variable."
   ]
  },
  {
   "cell_type": "code",
   "execution_count": 33,
   "id": "082446f5-d7ec-432d-a612-bbc3c70cf965",
   "metadata": {},
   "outputs": [],
   "source": [
    "# Write your code here"
   ]
  },
  {
   "cell_type": "markdown",
   "id": "d9abf958-d017-4d9f-8dd2-04b606d00a94",
   "metadata": {},
   "source": [
    "3. What happens if you try to add a number (e.g. 5) to the vector you stored above?"
   ]
  },
  {
   "cell_type": "code",
   "execution_count": 36,
   "id": "b6947418-e5dc-4073-bb41-9054b2987742",
   "metadata": {},
   "outputs": [],
   "source": [
    "# Write your code here"
   ]
  },
  {
   "cell_type": "markdown",
   "id": "64e39832-9b52-46f8-b9e9-742ec935ba3c",
   "metadata": {
    "tags": []
   },
   "source": [
    "Two data types that we'll use a lot to create our neural network are **lists** and **matrices**. "
   ]
  },
  {
   "cell_type": "markdown",
   "id": "8e894689-7bfd-4bf9-be32-33ae23ef6533",
   "metadata": {},
   "source": [
    "### Lists\n",
    "Lists are similar to vectors, in that they can be used to bundle a bunch of pieces of data together into one object. They're a bit more fancy, but we won't stress the details for now. To create a list, we type `list(name_1 = data_1, name_2 = data_2, ..., name_n = data_n)`, where the names are what you want to call the data you are storing, and `n` can be any positive whole number. For example, we could use a list to store some information about Aka the tortoise."
   ]
  },
  {
   "cell_type": "code",
   "execution_count": 18,
   "id": "6039766d-c3ef-4819-b2dd-ccf8c3fb90ae",
   "metadata": {},
   "outputs": [
    {
     "data": {
      "text/html": [
       "<dl>\n",
       "\t<dt>$name</dt>\n",
       "\t\t<dd>'Aka'</dd>\n",
       "\t<dt>$age</dt>\n",
       "\t\t<dd>71</dd>\n",
       "\t<dt>$species</dt>\n",
       "\t\t<dd>'Tortoise'</dd>\n",
       "\t<dt>$icon</dt>\n",
       "\t\t<dd>'🐢'</dd>\n",
       "\t<dt>$health_conditions</dt>\n",
       "\t\t<dd>FALSE</dd>\n",
       "\t<dt>$dimensions</dt>\n",
       "\t\t<dd><dl>\n",
       "\t<dt>$length</dt>\n",
       "\t\t<dd>80</dd>\n",
       "\t<dt>$width</dt>\n",
       "\t\t<dd>50</dd>\n",
       "\t<dt>$height</dt>\n",
       "\t\t<dd>40</dd>\n",
       "</dl>\n",
       "</dd>\n",
       "</dl>\n"
      ],
      "text/latex": [
       "\\begin{description}\n",
       "\\item[\\$name] 'Aka'\n",
       "\\item[\\$age] 71\n",
       "\\item[\\$species] 'Tortoise'\n",
       "\\item[\\$icon] '🐢'\n",
       "\\item[\\$health\\_conditions] FALSE\n",
       "\\item[\\$dimensions] \\begin{description}\n",
       "\\item[\\$length] 80\n",
       "\\item[\\$width] 50\n",
       "\\item[\\$height] 40\n",
       "\\end{description}\n",
       "\n",
       "\\end{description}\n"
      ],
      "text/markdown": [
       "$name\n",
       ":   'Aka'\n",
       "$age\n",
       ":   71\n",
       "$species\n",
       ":   'Tortoise'\n",
       "$icon\n",
       ":   '🐢'\n",
       "$health_conditions\n",
       ":   FALSE\n",
       "$dimensions\n",
       ":   $length\n",
       ":   80\n",
       "$width\n",
       ":   50\n",
       "$height\n",
       ":   40\n",
       "\n",
       "\n",
       "\n",
       "\n",
       "\n"
      ],
      "text/plain": [
       "$name\n",
       "[1] \"Aka\"\n",
       "\n",
       "$age\n",
       "[1] 71\n",
       "\n",
       "$species\n",
       "[1] \"Tortoise\"\n",
       "\n",
       "$icon\n",
       "[1] \"🐢\"\n",
       "\n",
       "$health_conditions\n",
       "[1] FALSE\n",
       "\n",
       "$dimensions\n",
       "$dimensions$length\n",
       "[1] 80\n",
       "\n",
       "$dimensions$width\n",
       "[1] 50\n",
       "\n",
       "$dimensions$height\n",
       "[1] 40\n",
       "\n"
      ]
     },
     "metadata": {},
     "output_type": "display_data"
    }
   ],
   "source": [
    "animal_1 = list(\n",
    "    name = \"Aka\", \n",
    "    age = 71, \n",
    "    species = \"Tortoise\", \n",
    "    icon = \"🐢\", \n",
    "    health_conditions = FALSE, \n",
    "    dimensions = list(length = 80, width = 50, height = 40)\n",
    ")\n",
    "animal_1"
   ]
  },
  {
   "cell_type": "markdown",
   "id": "8e3655b7-a76a-439f-8013-89f1dcb41d7f",
   "metadata": {},
   "source": [
    "We can then use the names we gave to the data to easily access what we want, using the `$` symbol."
   ]
  },
  {
   "cell_type": "code",
   "execution_count": 23,
   "id": "5d672321-30d7-4454-97a2-45efb266fa8b",
   "metadata": {},
   "outputs": [
    {
     "data": {
      "text/html": [
       "'🐢'"
      ],
      "text/latex": [
       "'🐢'"
      ],
      "text/markdown": [
       "'🐢'"
      ],
      "text/plain": [
       "[1] \"🐢\""
      ]
     },
     "metadata": {},
     "output_type": "display_data"
    },
    {
     "data": {
      "text/html": [
       "'🐢'"
      ],
      "text/latex": [
       "'🐢'"
      ],
      "text/markdown": [
       "'🐢'"
      ],
      "text/plain": [
       "[1] \"🐢\""
      ]
     },
     "metadata": {},
     "output_type": "display_data"
    }
   ],
   "source": [
    "animal_1$icon"
   ]
  },
  {
   "cell_type": "markdown",
   "id": "56022b7d-2867-4429-8cca-04941eba7539",
   "metadata": {},
   "source": [
    "We can even put lists inside lists, and get the data we want using the same idea."
   ]
  },
  {
   "cell_type": "code",
   "execution_count": 14,
   "id": "f9d66e17-3037-496e-b211-3cfc27150b16",
   "metadata": {},
   "outputs": [
    {
     "data": {
      "text/html": [
       "<dl>\n",
       "\t<dt>$length</dt>\n",
       "\t\t<dd>80</dd>\n",
       "\t<dt>$width</dt>\n",
       "\t\t<dd>50</dd>\n",
       "\t<dt>$height</dt>\n",
       "\t\t<dd>40</dd>\n",
       "</dl>\n"
      ],
      "text/latex": [
       "\\begin{description}\n",
       "\\item[\\$length] 80\n",
       "\\item[\\$width] 50\n",
       "\\item[\\$height] 40\n",
       "\\end{description}\n"
      ],
      "text/markdown": [
       "$length\n",
       ":   80\n",
       "$width\n",
       ":   50\n",
       "$height\n",
       ":   40\n",
       "\n",
       "\n"
      ],
      "text/plain": [
       "$length\n",
       "[1] 80\n",
       "\n",
       "$width\n",
       "[1] 50\n",
       "\n",
       "$height\n",
       "[1] 40\n"
      ]
     },
     "metadata": {},
     "output_type": "display_data"
    },
    {
     "data": {
      "text/html": [
       "80"
      ],
      "text/latex": [
       "80"
      ],
      "text/markdown": [
       "80"
      ],
      "text/plain": [
       "[1] 80"
      ]
     },
     "metadata": {},
     "output_type": "display_data"
    }
   ],
   "source": [
    "animal_1$dimensions\n",
    "animal_1$dimensions$length"
   ]
  },
  {
   "cell_type": "markdown",
   "id": "94993c93-8631-40ab-bd63-dd3f3e97b53e",
   "metadata": {},
   "source": [
    "Note that like vectors, we can also use the position of the data in the list to access it. This *cannot* be done using the `$` sign, we must use the double square brackets instead."
   ]
  },
  {
   "cell_type": "code",
   "execution_count": 26,
   "id": "98e388ea-d041-4b89-a3d9-848ad527e7de",
   "metadata": {},
   "outputs": [
    {
     "data": {
      "text/html": [
       "'Aka'"
      ],
      "text/latex": [
       "'Aka'"
      ],
      "text/markdown": [
       "'Aka'"
      ],
      "text/plain": [
       "[1] \"Aka\""
      ]
     },
     "metadata": {},
     "output_type": "display_data"
    }
   ],
   "source": [
    "animal_1[[1]]"
   ]
  },
  {
   "cell_type": "markdown",
   "id": "cac1acf1-310f-4bac-bb7a-f95c7bf41921",
   "metadata": {},
   "source": [
    "### <font color='#F89536'> **Your turn!** </font>"
   ]
  },
  {
   "cell_type": "markdown",
   "id": "d37de598-5400-466f-8516-3c6a9013c69c",
   "metadata": {
    "tags": []
   },
   "source": [
    "1. Create a list containing some information about a different animal."
   ]
  },
  {
   "cell_type": "code",
   "execution_count": 21,
   "id": "8d310154-a445-4649-ab7d-02679006d2db",
   "metadata": {},
   "outputs": [],
   "source": [
    "# Write your code here"
   ]
  },
  {
   "cell_type": "markdown",
   "id": "da30655d-2514-4478-9bfe-3137c4f7379d",
   "metadata": {},
   "source": [
    "2. Practice accessing the elements in the list you created above, using both the `$` operator and the square brackets."
   ]
  },
  {
   "cell_type": "code",
   "execution_count": 33,
   "id": "698dc3d9-4388-4e1e-9bd6-5e38b7aa113f",
   "metadata": {
    "tags": []
   },
   "outputs": [],
   "source": [
    "# Write your code here"
   ]
  },
  {
   "cell_type": "markdown",
   "id": "aeddea51-613c-4366-89b9-76a8359383c9",
   "metadata": {},
   "source": [
    "### Matrices"
   ]
  },
  {
   "cell_type": "markdown",
   "id": "52abd288-4c50-4ccf-b468-7f9efc128076",
   "metadata": {},
   "source": [
    "Matrices is the plural of matrix. If you not familiar with matrices, perhaps the word matrix brings something like this to mind:\n",
    "\n",
    "![matrix_code_rain_gif](../static/matrix_code_rain.gif)\n",
    "\n",
    "In our context, a matrix looks more like this:\n",
    "\n",
    "$ \\begin{equation*}\n",
    "M = \n",
    "\\begin{bmatrix}\n",
    "1 & 5 & 2 & 99 \\\\\n",
    "0 & -3.4 & 21 & 0.01\n",
    "\\end{bmatrix}\n",
    "\\end{equation*}$\n",
    "\n",
    "Matrices are tables, (usually) filled with numbers, arranging them into rows and columns. The matrix denoted $M$ above has two rows and three columns, and we'd say this is a \"two by three\" matrix, noting the number of rows first, then the number of columns second. Matrices can have any number of rows and columns. \n",
    "\n",
    "$\\begin{equation*}\n",
    "A_{m,n} = \n",
    "\\begin{bmatrix}\n",
    "a_{1,1} & a_{1,2} & \\cdots & a_{1,n} \\\\\n",
    "a_{2,1} & a_{2,2} & \\cdots & a_{2,n} \\\\\n",
    "\\vdots  & \\vdots  & \\ddots & \\vdots  \\\\\n",
    "a_{m,1} & a_{m,2} & \\cdots & a_{m,n} \n",
    "\\end{bmatrix}\n",
    "\\end{equation*}$\n",
    "\n",
    "Collectively, the number of rows and columns of a matrix are called the **dimensions** of the matrix.\n",
    "\n",
    "Matrices are super useful for many reasons. For our use, here's two that are important:\n",
    "1. They provide a nice way to keep a bunch of numbers that are related (like the weights and biases of a neural network, more on that soon) in one nice tidy bundle.\n",
    "2. We can use them to add and multiply lots of numbers quickly using what we call **matrix multiplication**.\n",
    "\n",
    "For now, we don't need to worry about the details, a general understanding of the concept is fine. We could create the matrix $M$ written above in `R` as follows:"
   ]
  },
  {
   "cell_type": "code",
   "execution_count": 7,
   "id": "83ff56db-2dc0-460c-8f09-4fd7e8156d5d",
   "metadata": {},
   "outputs": [
    {
     "data": {
      "text/html": [
       "<table class=\"dataframe\">\n",
       "<caption>A matrix: 2 × 4 of type dbl</caption>\n",
       "<tbody>\n",
       "\t<tr><td>1</td><td> 2</td><td> 0.0</td><td>21.00</td></tr>\n",
       "\t<tr><td>5</td><td>99</td><td>-3.4</td><td> 0.01</td></tr>\n",
       "</tbody>\n",
       "</table>\n"
      ],
      "text/latex": [
       "A matrix: 2 × 4 of type dbl\n",
       "\\begin{tabular}{llll}\n",
       "\t 1 &  2 &  0.0 & 21.00\\\\\n",
       "\t 5 & 99 & -3.4 &  0.01\\\\\n",
       "\\end{tabular}\n"
      ],
      "text/markdown": [
       "\n",
       "A matrix: 2 × 4 of type dbl\n",
       "\n",
       "| 1 |  2 |  0.0 | 21.00 |\n",
       "| 5 | 99 | -3.4 |  0.01 |\n",
       "\n"
      ],
      "text/plain": [
       "     [,1] [,2] [,3] [,4] \n",
       "[1,] 1     2    0.0 21.00\n",
       "[2,] 5    99   -3.4  0.01"
      ]
     },
     "metadata": {},
     "output_type": "display_data"
    }
   ],
   "source": [
    "M = matrix(c(1, 5, 2, 99, 0, -3.4, 21, 0.01), nrow = 2)\n",
    "M"
   ]
  },
  {
   "cell_type": "markdown",
   "id": "b9fda463-21a4-4605-9623-386896defe64",
   "metadata": {},
   "source": [
    "That is, we pop all the numbers we want in our matrix into a vector, specify the number of rows we want using `nrow = ...` and then wrap it all up writing `matrix(...)` around the outside. Just like with lists and vectors, we can use square brackets to access elements in a matrix."
   ]
  },
  {
   "cell_type": "code",
   "execution_count": 8,
   "id": "82834ab1-974f-423d-9aad-38594e0ce580",
   "metadata": {},
   "outputs": [
    {
     "data": {
      "text/html": [
       "0"
      ],
      "text/latex": [
       "0"
      ],
      "text/markdown": [
       "0"
      ],
      "text/plain": [
       "[1] 0"
      ]
     },
     "metadata": {},
     "output_type": "display_data"
    }
   ],
   "source": [
    "# Get the number in the first row, third column\n",
    "M[1, 3]"
   ]
  },
  {
   "cell_type": "code",
   "execution_count": 9,
   "id": "0517bff0-ae71-478a-bf5c-3a56430a86cf",
   "metadata": {},
   "outputs": [
    {
     "data": {
      "text/html": [
       "<style>\n",
       ".list-inline {list-style: none; margin:0; padding: 0}\n",
       ".list-inline>li {display: inline-block}\n",
       ".list-inline>li:not(:last-child)::after {content: \"\\00b7\"; padding: 0 .5ex}\n",
       "</style>\n",
       "<ol class=list-inline><li>1</li><li>2</li><li>0</li><li>21</li></ol>\n"
      ],
      "text/latex": [
       "\\begin{enumerate*}\n",
       "\\item 1\n",
       "\\item 2\n",
       "\\item 0\n",
       "\\item 21\n",
       "\\end{enumerate*}\n"
      ],
      "text/markdown": [
       "1. 1\n",
       "2. 2\n",
       "3. 0\n",
       "4. 21\n",
       "\n",
       "\n"
      ],
      "text/plain": [
       "[1]  1  2  0 21"
      ]
     },
     "metadata": {},
     "output_type": "display_data"
    }
   ],
   "source": [
    "# Get the first row\n",
    "M[1, ]"
   ]
  },
  {
   "cell_type": "code",
   "execution_count": 10,
   "id": "45634a4b-0209-483a-8bf2-fd137f052abd",
   "metadata": {},
   "outputs": [
    {
     "data": {
      "text/html": [
       "<style>\n",
       ".list-inline {list-style: none; margin:0; padding: 0}\n",
       ".list-inline>li {display: inline-block}\n",
       ".list-inline>li:not(:last-child)::after {content: \"\\00b7\"; padding: 0 .5ex}\n",
       "</style>\n",
       "<ol class=list-inline><li>21</li><li>0.01</li></ol>\n"
      ],
      "text/latex": [
       "\\begin{enumerate*}\n",
       "\\item 21\n",
       "\\item 0.01\n",
       "\\end{enumerate*}\n"
      ],
      "text/markdown": [
       "1. 21\n",
       "2. 0.01\n",
       "\n",
       "\n"
      ],
      "text/plain": [
       "[1] 21.00  0.01"
      ]
     },
     "metadata": {},
     "output_type": "display_data"
    }
   ],
   "source": [
    "# Get the fourth column\n",
    "M[, 4]"
   ]
  },
  {
   "cell_type": "markdown",
   "id": "07456231-4928-4fcf-8b6f-4ea8636eb586",
   "metadata": {},
   "source": [
    "### <font color='#F89536'> **Your turn!** </font>"
   ]
  },
  {
   "cell_type": "markdown",
   "id": "ea421159-e4e9-4273-83eb-64314c4b0f78",
   "metadata": {
    "tags": []
   },
   "source": [
    "1. What does the code below do?"
   ]
  },
  {
   "cell_type": "code",
   "execution_count": 37,
   "id": "a28d922a-aa46-4ad3-bc8b-c3d817a55ef8",
   "metadata": {},
   "outputs": [
    {
     "data": {
      "text/html": [
       "<table class=\"dataframe\">\n",
       "<caption>A matrix: 2 × 2 of type dbl</caption>\n",
       "<tbody>\n",
       "\t<tr><td> 2</td><td> 0.0</td></tr>\n",
       "\t<tr><td>99</td><td>-3.4</td></tr>\n",
       "</tbody>\n",
       "</table>\n"
      ],
      "text/latex": [
       "A matrix: 2 × 2 of type dbl\n",
       "\\begin{tabular}{ll}\n",
       "\t  2 &  0.0\\\\\n",
       "\t 99 & -3.4\\\\\n",
       "\\end{tabular}\n"
      ],
      "text/markdown": [
       "\n",
       "A matrix: 2 × 2 of type dbl\n",
       "\n",
       "|  2 |  0.0 |\n",
       "| 99 | -3.4 |\n",
       "\n"
      ],
      "text/plain": [
       "     [,1] [,2]\n",
       "[1,]  2    0.0\n",
       "[2,] 99   -3.4"
      ]
     },
     "metadata": {},
     "output_type": "display_data"
    }
   ],
   "source": [
    "M[1:2, 2:3]"
   ]
  },
  {
   "cell_type": "markdown",
   "id": "1a5977e6-8169-4b4f-aada-6f5a21ea9bde",
   "metadata": {},
   "source": [
    "2. What does the code below do?"
   ]
  },
  {
   "cell_type": "code",
   "execution_count": 39,
   "id": "e3dc93a7-9faa-46ad-89b7-0476e7da78a9",
   "metadata": {
    "tags": []
   },
   "outputs": [
    {
     "data": {
      "text/html": [
       "<table class=\"dataframe\">\n",
       "<caption>A matrix: 4 × 2 of type dbl</caption>\n",
       "<tbody>\n",
       "\t<tr><td> 1</td><td> 5.00</td></tr>\n",
       "\t<tr><td> 2</td><td>99.00</td></tr>\n",
       "\t<tr><td> 0</td><td>-3.40</td></tr>\n",
       "\t<tr><td>21</td><td> 0.01</td></tr>\n",
       "</tbody>\n",
       "</table>\n"
      ],
      "text/latex": [
       "A matrix: 4 × 2 of type dbl\n",
       "\\begin{tabular}{ll}\n",
       "\t  1 &  5.00\\\\\n",
       "\t  2 & 99.00\\\\\n",
       "\t  0 & -3.40\\\\\n",
       "\t 21 &  0.01\\\\\n",
       "\\end{tabular}\n"
      ],
      "text/markdown": [
       "\n",
       "A matrix: 4 × 2 of type dbl\n",
       "\n",
       "|  1 |  5.00 |\n",
       "|  2 | 99.00 |\n",
       "|  0 | -3.40 |\n",
       "| 21 |  0.01 |\n",
       "\n"
      ],
      "text/plain": [
       "     [,1] [,2] \n",
       "[1,]  1    5.00\n",
       "[2,]  2   99.00\n",
       "[3,]  0   -3.40\n",
       "[4,] 21    0.01"
      ]
     },
     "metadata": {},
     "output_type": "display_data"
    }
   ],
   "source": [
    "t(M)"
   ]
  },
  {
   "cell_type": "markdown",
   "id": "06c7e594-70e0-460e-b74e-a19d1ccc5bbf",
   "metadata": {},
   "source": [
    "3. Create a 3 by 3 matrix containing any numbers you like."
   ]
  },
  {
   "cell_type": "code",
   "execution_count": 33,
   "id": "df07cd4e-d02c-47d2-9761-88b257517d0d",
   "metadata": {
    "tags": []
   },
   "outputs": [],
   "source": [
    "# Write your code here"
   ]
  },
  {
   "cell_type": "markdown",
   "id": "ec0f7a06-6ee1-460e-be53-25d346181e1b",
   "metadata": {
    "tags": []
   },
   "source": [
    "## Loops 🔁\n",
    "One of the best things about getting computers to do our work is that they can repeat the same task over and over again incredibly quickly and accurately. When we want to run the same set of instructions again and again, we can use loops. \n",
    "\n",
    "For example, suppose we wanted to add up all the numbers from one to twenty. We could type this in manually, but it would be slow and tedious. Instead, we can use a loop, to iteratively add each number to the previous total sum.\n",
    "\n",
    "Loops in `R` look like this:"
   ]
  },
  {
   "cell_type": "code",
   "execution_count": 33,
   "id": "4a824ff3-5e0f-41c3-8347-2e8168f609c1",
   "metadata": {},
   "outputs": [
    {
     "data": {
      "text/html": [
       "210"
      ],
      "text/latex": [
       "210"
      ],
      "text/markdown": [
       "210"
      ],
      "text/plain": [
       "[1] 210"
      ]
     },
     "metadata": {},
     "output_type": "display_data"
    }
   ],
   "source": [
    "current_sum = 0\n",
    "\n",
    "for(i in 1:20) {\n",
    "    current_sum = current_sum + i\n",
    "}\n",
    "\n",
    "current_sum"
   ]
  },
  {
   "cell_type": "markdown",
   "id": "9e093b60-a2ba-4768-ae02-38d939ffef79",
   "metadata": {},
   "source": [
    "In this loop, we start by setting `i = 1`. Then, all the code in the squiggly brackets is run (we add `i` to the current sum, which starts at 0 as we haven't counted anything yet). Once all that code has run, the for loop jumps back to the top, `i` becomes the next value in our vector (which is `2`, remember what `1:20` is short for), and we repeat the process all the way up until `i = 20`. When the code for `i = 20` has been run, the loop stops, as all `i` values between `1` and `20` have now been run!\n",
    "\n",
    "We won't use for loops much, but we'll use one to help us train our neural network."
   ]
  },
  {
   "cell_type": "markdown",
   "id": "2b856a2f-137c-4d3e-99f2-007f07494cc8",
   "metadata": {
    "tags": []
   },
   "source": [
    "## Functions 📈\n",
    "Woo! Nice work on making it this far. The last concept we need to cover is that of **functions**. Functions (usually) take inputs, and based on those input, return an output. They're super useful if you want to run the same block of code in multiple different places.\n",
    "\n",
    "We've already come across a few different functions that come built into R. `cat()` and `print()` are two common functions used to print the outputs of some code. `matrix()` is also a function. It takes in the numbers you want in the matrix, and the number of rows you want the matrix to have, and outputs such a matrix.\n",
    "\n",
    "Some other useful functions we will use include:\n",
    "- `rnorm()`, which can generate random samples from a normal distribution.\n",
    "- `round()`, which can round a number to a specified number of decimal places.\n",
    "- `length()`, which can get the length of a vector or list.\n",
    "- `exp()`, which gives the [exponential function](https://en.wikipedia.org/wiki/Exponential_function), $e^x$."
   ]
  },
  {
   "cell_type": "code",
   "execution_count": 4,
   "id": "9f81efec-073e-4fb9-b657-91440394135a",
   "metadata": {},
   "outputs": [
    {
     "data": {
      "text/html": [
       "<style>\n",
       ".list-inline {list-style: none; margin:0; padding: 0}\n",
       ".list-inline>li {display: inline-block}\n",
       ".list-inline>li:not(:last-child)::after {content: \"\\00b7\"; padding: 0 .5ex}\n",
       "</style>\n",
       "<ol class=list-inline><li>-0.710107409155387</li><li>-0.201374801127999</li><li>0.93190098767116</li><li>1.21451298131874</li><li>0.716900974380124</li></ol>\n"
      ],
      "text/latex": [
       "\\begin{enumerate*}\n",
       "\\item -0.710107409155387\n",
       "\\item -0.201374801127999\n",
       "\\item 0.93190098767116\n",
       "\\item 1.21451298131874\n",
       "\\item 0.716900974380124\n",
       "\\end{enumerate*}\n"
      ],
      "text/markdown": [
       "1. -0.710107409155387\n",
       "2. -0.201374801127999\n",
       "3. 0.93190098767116\n",
       "4. 1.21451298131874\n",
       "5. 0.716900974380124\n",
       "\n",
       "\n"
      ],
      "text/plain": [
       "[1] -0.7101074 -0.2013748  0.9319010  1.2145130  0.7169010"
      ]
     },
     "metadata": {},
     "output_type": "display_data"
    },
    {
     "data": {
      "text/html": [
       "<style>\n",
       ".list-inline {list-style: none; margin:0; padding: 0}\n",
       ".list-inline>li {display: inline-block}\n",
       ".list-inline>li:not(:last-child)::after {content: \"\\00b7\"; padding: 0 .5ex}\n",
       "</style>\n",
       "<ol class=list-inline><li>-0.71</li><li>-0.201</li><li>0.932</li><li>1.215</li><li>0.717</li></ol>\n"
      ],
      "text/latex": [
       "\\begin{enumerate*}\n",
       "\\item -0.71\n",
       "\\item -0.201\n",
       "\\item 0.932\n",
       "\\item 1.215\n",
       "\\item 0.717\n",
       "\\end{enumerate*}\n"
      ],
      "text/markdown": [
       "1. -0.71\n",
       "2. -0.201\n",
       "3. 0.932\n",
       "4. 1.215\n",
       "5. 0.717\n",
       "\n",
       "\n"
      ],
      "text/plain": [
       "[1] -0.710 -0.201  0.932  1.215  0.717"
      ]
     },
     "metadata": {},
     "output_type": "display_data"
    },
    {
     "data": {
      "text/html": [
       "3"
      ],
      "text/latex": [
       "3"
      ],
      "text/markdown": [
       "3"
      ],
      "text/plain": [
       "[1] 3"
      ]
     },
     "metadata": {},
     "output_type": "display_data"
    }
   ],
   "source": [
    "rand = rnorm(5)\n",
    "rand\n",
    "round(rand, 3)\n",
    "length(c(5,4,1))"
   ]
  },
  {
   "cell_type": "markdown",
   "id": "f4d05250-b8f0-404d-8d44-e9217c98b23b",
   "metadata": {},
   "source": [
    "Notice that the name a function is usually a pretty good indicator of what the function does, so if you come across a function you haven't seen before, you can often guess what it does. This isn't always the case though; if you get stuck or aren't sure searching up 'function name R' online is always a good start.\n",
    "\n",
    "But what if you want to use a function that isn't included in R? There are two main solutions: **defining functions** and **loading functions**."
   ]
  },
  {
   "cell_type": "markdown",
   "id": "8285303d-83d0-4767-bfd9-db701d8fef4b",
   "metadata": {},
   "source": [
    "### Defining functions"
   ]
  },
  {
   "cell_type": "markdown",
   "id": "5f3b25e1-04c8-4684-962a-285b77aff855",
   "metadata": {},
   "source": [
    "If you can't find a function that does what you want, you can create your own function! For example, if I wanted to take the square root of a number, I could use R's inbuilt `sqrt()` function."
   ]
  },
  {
   "cell_type": "code",
   "execution_count": 5,
   "id": "b37e3440-b4a1-4b12-a557-6130d793163b",
   "metadata": {},
   "outputs": [
    {
     "data": {
      "text/html": [
       "3"
      ],
      "text/latex": [
       "3"
      ],
      "text/markdown": [
       "3"
      ],
      "text/plain": [
       "[1] 3"
      ]
     },
     "metadata": {},
     "output_type": "display_data"
    }
   ],
   "source": [
    "sqrt(9)"
   ]
  },
  {
   "cell_type": "markdown",
   "id": "3d3baadb-57ec-47ff-abb4-230b8b230085",
   "metadata": {},
   "source": [
    "But perhaps we want something a little different, maybe we want to know what three times the square root of some number, plus 4, divided by some other number is, rounded to the nearest whole number. There isn't an inbuilt function to do this, so we can create our own as follows."
   ]
  },
  {
   "cell_type": "code",
   "execution_count": 22,
   "id": "d53a3d43-83ad-48d6-9b90-2128d7d5df95",
   "metadata": {
    "tags": []
   },
   "outputs": [],
   "source": [
    "silly_sqrt = function(number_1, number_2) {\n",
    "    silly_root = (3 * sqrt(number_1) + 4) / number_2 \n",
    "    silly_root_rounded = round(silly_root)\n",
    "    return(silly_root_rounded)\n",
    "}"
   ]
  },
  {
   "cell_type": "markdown",
   "id": "e432edc7-effd-4812-83f4-ba6c665f2aea",
   "metadata": {},
   "source": [
    "We can then use this function, just like one that comes with R!"
   ]
  },
  {
   "cell_type": "code",
   "execution_count": 23,
   "id": "61caa942-969f-4226-ac75-0d9e4e2faa68",
   "metadata": {},
   "outputs": [
    {
     "data": {
      "text/html": [
       "4"
      ],
      "text/latex": [
       "4"
      ],
      "text/markdown": [
       "4"
      ],
      "text/plain": [
       "[1] 4"
      ]
     },
     "metadata": {},
     "output_type": "display_data"
    }
   ],
   "source": [
    "silly_sqrt(1, 2)"
   ]
  },
  {
   "cell_type": "markdown",
   "id": "803550db-35a5-440b-8c4f-c9af8cf587e6",
   "metadata": {},
   "source": [
    "The first line above creates a function called `silly_sqrt` that takes in two numbers. The function, like a loop, then executes all the code inside the squiggly brackets when called. Finally, to specify what output we want to function to have, we wrap it up using `return()`."
   ]
  },
  {
   "cell_type": "markdown",
   "id": "26424319-cc75-4892-9a09-dc9ee244be49",
   "metadata": {},
   "source": [
    "### Loading functions"
   ]
  },
  {
   "cell_type": "markdown",
   "id": "1298e154-24f9-445c-87bd-deac66ae785c",
   "metadata": {},
   "source": [
    "Luckily, R has many amazing and super smart users that write functions and release them for use by the wider community so that we don't have to. Often, these functions come in bundles called **packages**. You can find thousands upon thousands of packages online.\n",
    "\n",
    "To use the functions in a package, we have to install the package and then load it in, as so."
   ]
  },
  {
   "cell_type": "code",
   "execution_count": 13,
   "id": "ccac2fb5-b838-4c3a-9d0e-64a643700f58",
   "metadata": {},
   "outputs": [],
   "source": [
    "# Install the package on our computer\n",
    "# (We comment it out here, because we already have the package installed)\n",
    "# install.packages(\"ggplot2\")\n",
    "\n",
    "# Load the package into the current session\n",
    "library(\"ggplot2\")"
   ]
  },
  {
   "cell_type": "markdown",
   "id": "e3436bcc-4a69-4f9b-add0-c68e0cb4f83f",
   "metadata": {},
   "source": [
    "### <font color='#F89536'> **Your turn!** </font>"
   ]
  },
  {
   "cell_type": "markdown",
   "id": "9afc299b-d2a5-4c17-ab96-6f774afbdc2f",
   "metadata": {
    "tags": []
   },
   "source": [
    "1. Using some of the functions described above, create a 100 by 100 matrix full of random digits."
   ]
  },
  {
   "cell_type": "code",
   "execution_count": 40,
   "id": "a98b90bb-134a-4604-8b27-b8dd6dbf4a03",
   "metadata": {
    "tags": []
   },
   "outputs": [],
   "source": [
    "# Write your code here"
   ]
  },
  {
   "cell_type": "markdown",
   "id": "69b13221-3138-47af-8e30-8f1cff37d909",
   "metadata": {},
   "source": [
    "2. Define a function that, given the radius, calulates the volume of a sphere ($V = \\frac{4}{3} \\pi r^3$)."
   ]
  },
  {
   "cell_type": "code",
   "execution_count": 40,
   "id": "ea3aa803-dd4a-454d-b392-6a89e46b83e9",
   "metadata": {
    "tags": []
   },
   "outputs": [],
   "source": [
    "# Write your code here"
   ]
  },
  {
   "cell_type": "markdown",
   "id": "2179cb79-32b1-4847-ad73-e370172233b6",
   "metadata": {},
   "source": [
    "## Summary 🥳\n",
    "If you haven't coded much before, that might be a bit to take in. Don't stress, you can always come back to this page and use it as a reference if needed. To summarise, we learned how to use R to:\n",
    "- Do basic arithmetic\n",
    "- Store variables and create different types of data\n",
    "- Work with lists and matrices\n",
    "- Use loops\n",
    "- Write and use functions"
   ]
  },
  {
   "cell_type": "markdown",
   "id": "3d8ce86c-0891-46ac-9b31-3614bbd059bf",
   "metadata": {
    "jp-MarkdownHeadingCollapsed": true,
    "tags": []
   },
   "source": [
    "---\n",
    "## ↪️ Next up: [Part 3 🔎 - Revising the basics of neural networks](./3_Revising_NNs.ipynb)"
   ]
  }
 ],
 "metadata": {
  "kernelspec": {
   "display_name": "R",
   "language": "R",
   "name": "ir"
  },
  "language_info": {
   "codemirror_mode": "r",
   "file_extension": ".r",
   "mimetype": "text/x-r-source",
   "name": "R",
   "pygments_lexer": "r",
   "version": "4.1.2"
  }
 },
 "nbformat": 4,
 "nbformat_minor": 5
}
