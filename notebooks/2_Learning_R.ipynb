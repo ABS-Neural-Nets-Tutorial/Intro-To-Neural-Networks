{
 "cells": [
  {
   "cell_type": "markdown",
   "id": "84b43f2a-d878-4810-9bc9-f53405de991f",
   "metadata": {},
   "source": [
    "![banner](../static/banner.png)\n",
    "\n",
    "---"
   ]
  },
  {
   "cell_type": "markdown",
   "id": "f7c8e03b-69d4-478c-abe7-c9886e8d50c6",
   "metadata": {},
   "source": [
    "# Part 2 - Learning the ropes of coding in R  👩‍💻"
   ]
  },
  {
   "cell_type": "markdown",
   "id": "bdd9d2e5-3484-4115-8995-a39f38cdec05",
   "metadata": {
    "tags": []
   },
   "source": [
    "If you've never coded before, haven't had much practice or are new to R in particular, don't fret! Below, we introduce all the bits and pieces you need in order to understand our neural network code. Run the cells below to see how R works."
   ]
  },
  {
   "cell_type": "markdown",
   "id": "a02bfde4-0136-4d14-b425-e1a490425f6e",
   "metadata": {},
   "source": [
    "## Arithmetic\n",
    "We can use R like a calculator to perform simple arithmetic. "
   ]
  },
  {
   "cell_type": "code",
   "execution_count": 28,
   "id": "0d38a869-7f22-4c06-a296-14e06bcccc55",
   "metadata": {},
   "outputs": [
    {
     "data": {
      "text/html": [
       "7"
      ],
      "text/latex": [
       "7"
      ],
      "text/markdown": [
       "7"
      ],
      "text/plain": [
       "[1] 7"
      ]
     },
     "metadata": {},
     "output_type": "display_data"
    },
    {
     "data": {
      "text/html": [
       "-3"
      ],
      "text/latex": [
       "-3"
      ],
      "text/markdown": [
       "-3"
      ],
      "text/plain": [
       "[1] -3"
      ]
     },
     "metadata": {},
     "output_type": "display_data"
    },
    {
     "data": {
      "text/html": [
       "15.12"
      ],
      "text/latex": [
       "15.12"
      ],
      "text/markdown": [
       "15.12"
      ],
      "text/plain": [
       "[1] 15.12"
      ]
     },
     "metadata": {},
     "output_type": "display_data"
    },
    {
     "data": {
      "text/html": [
       "-0.954929658551372"
      ],
      "text/latex": [
       "-0.954929658551372"
      ],
      "text/markdown": [
       "-0.954929658551372"
      ],
      "text/plain": [
       "[1] -0.9549297"
      ]
     },
     "metadata": {},
     "output_type": "display_data"
    },
    {
     "data": {
      "text/html": [
       "FALSE"
      ],
      "text/latex": [
       "FALSE"
      ],
      "text/markdown": [
       "FALSE"
      ],
      "text/plain": [
       "[1] FALSE"
      ]
     },
     "metadata": {},
     "output_type": "display_data"
    }
   ],
   "source": [
    "3 + 4\n",
    "4 - 7\n",
    "3.6 * 4.2\n",
    "-3 / pi\n",
    "2 + 2 == 5"
   ]
  },
  {
   "cell_type": "markdown",
   "id": "a9b2bc70-3dff-4807-afe8-5194a46a404d",
   "metadata": {},
   "source": [
    "**Note:** Lines of code with a `#` out the front are called **comments**. Comments are ignored by the computer when it runs code, and are used to help explain things about the code to other humans."
   ]
  },
  {
   "cell_type": "code",
   "execution_count": 2,
   "id": "9a885795-279b-467f-a59d-df9d8c9e3ea3",
   "metadata": {},
   "outputs": [
    {
     "data": {
      "text/html": [
       "5"
      ],
      "text/latex": [
       "5"
      ],
      "text/markdown": [
       "5"
      ],
      "text/plain": [
       "[1] 5"
      ]
     },
     "metadata": {},
     "output_type": "display_data"
    }
   ],
   "source": [
    "# The line below will not result in a 4 being printed, as it's not code, it's a comment. \n",
    "# 2 + 2\n",
    "\n",
    "# But 5 will be printed!\n",
    "2 + 3"
   ]
  },
  {
   "cell_type": "markdown",
   "id": "d9b47eda-47f3-45bb-9099-7bc70a2daba6",
   "metadata": {},
   "source": [
    "## Variables\n",
    "Variables can be used to store data, so that it can be referenced again later on. For example, say we wanted to create a variable called `lucky_number` and we wanted to store in this variable the value `8`."
   ]
  },
  {
   "cell_type": "code",
   "execution_count": 8,
   "id": "7edf5fdf-d28c-434e-94c4-76032ca04ab2",
   "metadata": {},
   "outputs": [],
   "source": [
    "lucky_number = 8"
   ]
  },
  {
   "cell_type": "markdown",
   "id": "7c2f3749-329f-4481-b38b-bf6e349e03d9",
   "metadata": {},
   "source": [
    "We might not use that value now, but it is stored so we can use it later. Let's try printing it now:"
   ]
  },
  {
   "cell_type": "code",
   "execution_count": 9,
   "id": "4597d51b-f7f0-4ba3-b796-9aae8f088076",
   "metadata": {},
   "outputs": [
    {
     "data": {
      "text/html": [
       "8"
      ],
      "text/latex": [
       "8"
      ],
      "text/markdown": [
       "8"
      ],
      "text/plain": [
       "[1] 8"
      ]
     },
     "metadata": {},
     "output_type": "display_data"
    }
   ],
   "source": [
    "lucky_number"
   ]
  },
  {
   "cell_type": "markdown",
   "id": "c28ec22a-d851-4f91-9857-15e3d0769664",
   "metadata": {},
   "source": [
    "Variables can be used inplace of wherever you would normally use their contents. For example, if we have a variable that holds ad number, we can use it in arithmetic."
   ]
  },
  {
   "cell_type": "code",
   "execution_count": 11,
   "id": "25a7c77b-538e-4227-81c1-919d95636f0f",
   "metadata": {},
   "outputs": [
    {
     "data": {
      "text/html": [
       "12"
      ],
      "text/latex": [
       "12"
      ],
      "text/markdown": [
       "12"
      ],
      "text/plain": [
       "[1] 12"
      ]
     },
     "metadata": {},
     "output_type": "display_data"
    }
   ],
   "source": [
    "unlucky_number = 4 \n",
    "\n",
    "lucky_number + unlucky_number"
   ]
  },
  {
   "cell_type": "markdown",
   "id": "3f117232-2a51-4a00-8b9d-59b216bf4fa5",
   "metadata": {},
   "source": [
    "Note that while most programming languages use `=` to assign a value to a variable, you may see R code use the `<-` symbol instead. Both `=` and `<-` can be used in R, but the latter is pretty unique to R, so for this session we'll just stick to `=`."
   ]
  },
  {
   "cell_type": "code",
   "execution_count": 16,
   "id": "c1b5a8c3-3cb6-4203-b87d-383211e1165e",
   "metadata": {},
   "outputs": [
    {
     "data": {
      "text/html": [
       "66"
      ],
      "text/latex": [
       "66"
      ],
      "text/markdown": [
       "66"
      ],
      "text/plain": [
       "[1] 66"
      ]
     },
     "metadata": {},
     "output_type": "display_data"
    }
   ],
   "source": [
    "route <- 66\n",
    "route"
   ]
  },
  {
   "cell_type": "markdown",
   "id": "8d1ccdb8-373c-4045-98ba-0425d1ac2c88",
   "metadata": {},
   "source": [
    "## Data types\n",
    "When programming we use more than just numbers! The number `8` and the word `lucky` can both be considered data, but they're quite different in form and how they can be used. While we know how to halve `8`, what would it mean to halve the word `lucky`? Programming langauges often categorise data based on their structure and uses into what are called **data types**. \n",
    "\n",
    "Some of the more common data types include:\n",
    "\n",
    "- Integers, like `8`\n",
    "- Decimal numbers, like `2.421`\n",
    "- Strings (an ordered arrangement of characters), like `I <3 memes!`\n",
    "- Vectors (collections of objects of the same type), like `[1, 2, 3]`\n",
    "- Boolean values, either `True` or `False`\n",
    "\n",
    "There are many more types, and they are all often given slightly different names by different languages. \n",
    "\n",
    "In practice, strings in R are written enclosed in `\"quotation marks\"`, vectors written like inside a pair of brackets with a c at the front, `c()`, and booleans as `TRUE` and `FALSE`."
   ]
  },
  {
   "cell_type": "code",
   "execution_count": 32,
   "id": "c3efa289-7db9-47b4-935c-4c034bd9637d",
   "metadata": {},
   "outputs": [],
   "source": [
    "DPA_overdue = TRUE # Boolean (or logical)\n",
    "why = \"does skype refuse to share my screen\" # String\n",
    "rest_and_stretch_breaks = 6.3 # Decimal (or numeric)\n",
    "free_tea_bags = 0 # Integer\n",
    "sequence = c(1,1,2,3,5,8,13,21,34,55) # Vector"
   ]
  },
  {
   "cell_type": "markdown",
   "id": "5f8aea3c-d0e1-4114-93d2-6e434a0a3608",
   "metadata": {},
   "source": [
    "We can access the **elements** (entries) in a vector by using the position it is in:"
   ]
  },
  {
   "cell_type": "code",
   "execution_count": 35,
   "id": "248a6039-1385-4fe9-a1bf-1068fe231fbf",
   "metadata": {},
   "outputs": [
    {
     "data": {
      "text/html": [
       "1"
      ],
      "text/latex": [
       "1"
      ],
      "text/markdown": [
       "1"
      ],
      "text/plain": [
       "[1] 1"
      ]
     },
     "metadata": {},
     "output_type": "display_data"
    },
    {
     "data": {
      "text/html": [
       "2"
      ],
      "text/latex": [
       "2"
      ],
      "text/markdown": [
       "2"
      ],
      "text/plain": [
       "[1] 2"
      ]
     },
     "metadata": {},
     "output_type": "display_data"
    },
    {
     "data": {
      "text/html": [
       "<style>\n",
       ".list-inline {list-style: none; margin:0; padding: 0}\n",
       ".list-inline>li {display: inline-block}\n",
       ".list-inline>li:not(:last-child)::after {content: \"\\00b7\"; padding: 0 .5ex}\n",
       "</style>\n",
       "<ol class=list-inline><li>1</li><li>1</li><li>2</li><li>3</li></ol>\n"
      ],
      "text/latex": [
       "\\begin{enumerate*}\n",
       "\\item 1\n",
       "\\item 1\n",
       "\\item 2\n",
       "\\item 3\n",
       "\\end{enumerate*}\n"
      ],
      "text/markdown": [
       "1. 1\n",
       "2. 1\n",
       "3. 2\n",
       "4. 3\n",
       "\n",
       "\n"
      ],
      "text/plain": [
       "[1] 1 1 2 3"
      ]
     },
     "metadata": {},
     "output_type": "display_data"
    }
   ],
   "source": [
    "sequence[1]\n",
    "sequence[3]\n",
    "sequence[1:4]"
   ]
  },
  {
   "cell_type": "markdown",
   "id": "64e39832-9b52-46f8-b9e9-742ec935ba3c",
   "metadata": {},
   "source": [
    "### Lists and matrices\n",
    "Two data types that we'll use a lot to create our neural network are **lists** and **matrices**. \n",
    "\n",
    "Lists are similar to vectors, in that they can be used to bundle a bunch of data together into one object. One big difference is that lists can hold different data types, while vectors only hold objects of the same type. Another key difference is that we can give elements in a list a name, and then access them by that name.\n",
    "\n",
    "- Concept of lists and matrices\n",
    "- How to create a list\n",
    "- How to create a matrix\n",
    "- How to view a list or matrix\n",
    "- How to access elements of a list/matrix"
   ]
  },
  {
   "cell_type": "code",
   "execution_count": 9,
   "id": "97aa011d-40ea-4268-b52f-dc62098de6dd",
   "metadata": {},
   "outputs": [],
   "source": [
    "my_favs = list(colour = \"green\", number = 8, sequence = c(1,1,2,3,5,8,13,21,34,55), workplace = \"ABS\", R_function = abs)"
   ]
  },
  {
   "cell_type": "code",
   "execution_count": 10,
   "id": "cb39e11d-afb1-4b7d-a6ef-4a8fc5932c1b",
   "metadata": {},
   "outputs": [
    {
     "data": {
      "text/html": [
       "<dl>\n",
       "\t<dt>$colour</dt>\n",
       "\t\t<dd>'green'</dd>\n",
       "\t<dt>$number</dt>\n",
       "\t\t<dd>8</dd>\n",
       "\t<dt>$sequence</dt>\n",
       "\t\t<dd><style>\n",
       ".list-inline {list-style: none; margin:0; padding: 0}\n",
       ".list-inline>li {display: inline-block}\n",
       ".list-inline>li:not(:last-child)::after {content: \"\\00b7\"; padding: 0 .5ex}\n",
       "</style>\n",
       "<ol class=list-inline><li>1</li><li>1</li><li>2</li><li>3</li><li>5</li><li>8</li><li>13</li><li>21</li><li>34</li><li>55</li></ol>\n",
       "</dd>\n",
       "\t<dt>$workplace</dt>\n",
       "\t\t<dd>'ABS'</dd>\n",
       "\t<dt>$R_function</dt>\n",
       "\t\t<dd><pre class=language-r><code>.Primitive(\"abs\")</code></pre></dd>\n",
       "</dl>\n"
      ],
      "text/latex": [
       "\\begin{description}\n",
       "\\item[\\$colour] 'green'\n",
       "\\item[\\$number] 8\n",
       "\\item[\\$sequence] \\begin{enumerate*}\n",
       "\\item 1\n",
       "\\item 1\n",
       "\\item 2\n",
       "\\item 3\n",
       "\\item 5\n",
       "\\item 8\n",
       "\\item 13\n",
       "\\item 21\n",
       "\\item 34\n",
       "\\item 55\n",
       "\\end{enumerate*}\n",
       "\n",
       "\\item[\\$workplace] 'ABS'\n",
       "\\item[\\$R\\_function] \\begin{minted}{r}\n",
       ".Primitive(\"abs\")\n",
       "\\end{minted}\n",
       "\\end{description}\n"
      ],
      "text/markdown": [
       "$colour\n",
       ":   'green'\n",
       "$number\n",
       ":   8\n",
       "$sequence\n",
       ":   1. 1\n",
       "2. 1\n",
       "3. 2\n",
       "4. 3\n",
       "5. 5\n",
       "6. 8\n",
       "7. 13\n",
       "8. 21\n",
       "9. 34\n",
       "10. 55\n",
       "\n",
       "\n",
       "\n",
       "$workplace\n",
       ":   'ABS'\n",
       "$R_function\n",
       ":   ```r\n",
       ".Primitive(\"abs\")\n",
       "```\n",
       "\n",
       "\n"
      ],
      "text/plain": [
       "$colour\n",
       "[1] \"green\"\n",
       "\n",
       "$number\n",
       "[1] 8\n",
       "\n",
       "$sequence\n",
       " [1]  1  1  2  3  5  8 13 21 34 55\n",
       "\n",
       "$workplace\n",
       "[1] \"ABS\"\n",
       "\n",
       "$R_function\n",
       "function (x)  .Primitive(\"abs\")\n"
      ]
     },
     "metadata": {},
     "output_type": "display_data"
    }
   ],
   "source": [
    "my_favs"
   ]
  },
  {
   "cell_type": "code",
   "execution_count": 11,
   "id": "d597dfa8-e6c9-4b78-aecd-4411377d3a35",
   "metadata": {},
   "outputs": [
    {
     "data": {
      "text/html": [
       "'green'"
      ],
      "text/latex": [
       "'green'"
      ],
      "text/markdown": [
       "'green'"
      ],
      "text/plain": [
       "[1] \"green\""
      ]
     },
     "metadata": {},
     "output_type": "display_data"
    },
    {
     "data": {
      "text/html": [
       "<style>\n",
       ".list-inline {list-style: none; margin:0; padding: 0}\n",
       ".list-inline>li {display: inline-block}\n",
       ".list-inline>li:not(:last-child)::after {content: \"\\00b7\"; padding: 0 .5ex}\n",
       "</style>\n",
       "<ol class=list-inline><li>1</li><li>1</li><li>2</li><li>3</li><li>5</li><li>8</li><li>13</li><li>21</li><li>34</li><li>55</li></ol>\n"
      ],
      "text/latex": [
       "\\begin{enumerate*}\n",
       "\\item 1\n",
       "\\item 1\n",
       "\\item 2\n",
       "\\item 3\n",
       "\\item 5\n",
       "\\item 8\n",
       "\\item 13\n",
       "\\item 21\n",
       "\\item 34\n",
       "\\item 55\n",
       "\\end{enumerate*}\n"
      ],
      "text/markdown": [
       "1. 1\n",
       "2. 1\n",
       "3. 2\n",
       "4. 3\n",
       "5. 5\n",
       "6. 8\n",
       "7. 13\n",
       "8. 21\n",
       "9. 34\n",
       "10. 55\n",
       "\n",
       "\n"
      ],
      "text/plain": [
       " [1]  1  1  2  3  5  8 13 21 34 55"
      ]
     },
     "metadata": {},
     "output_type": "display_data"
    }
   ],
   "source": [
    "my_favs$colour\n",
    "my_favs[[\"sequence\"]]"
   ]
  },
  {
   "cell_type": "code",
   "execution_count": 12,
   "id": "d49c4a42-3b04-4959-9e34-4d223693bc4f",
   "metadata": {},
   "outputs": [
    {
     "data": {
      "text/html": [
       "<table class=\"dataframe\">\n",
       "<caption>A matrix: 5 × 8 of type dbl</caption>\n",
       "<tbody>\n",
       "\t<tr><td> 5</td><td>30</td><td>55</td><td> 80</td><td>105</td><td>130</td><td>155</td><td>180</td></tr>\n",
       "\t<tr><td>10</td><td>35</td><td>60</td><td> 85</td><td>110</td><td>135</td><td>160</td><td>185</td></tr>\n",
       "\t<tr><td>15</td><td>40</td><td>65</td><td> 90</td><td>115</td><td>140</td><td>165</td><td>190</td></tr>\n",
       "\t<tr><td>20</td><td>45</td><td>70</td><td> 95</td><td>120</td><td>145</td><td>170</td><td>195</td></tr>\n",
       "\t<tr><td>25</td><td>50</td><td>75</td><td>100</td><td>125</td><td>150</td><td>175</td><td>200</td></tr>\n",
       "</tbody>\n",
       "</table>\n"
      ],
      "text/latex": [
       "A matrix: 5 × 8 of type dbl\n",
       "\\begin{tabular}{llllllll}\n",
       "\t  5 & 30 & 55 &  80 & 105 & 130 & 155 & 180\\\\\n",
       "\t 10 & 35 & 60 &  85 & 110 & 135 & 160 & 185\\\\\n",
       "\t 15 & 40 & 65 &  90 & 115 & 140 & 165 & 190\\\\\n",
       "\t 20 & 45 & 70 &  95 & 120 & 145 & 170 & 195\\\\\n",
       "\t 25 & 50 & 75 & 100 & 125 & 150 & 175 & 200\\\\\n",
       "\\end{tabular}\n"
      ],
      "text/markdown": [
       "\n",
       "A matrix: 5 × 8 of type dbl\n",
       "\n",
       "|  5 | 30 | 55 |  80 | 105 | 130 | 155 | 180 |\n",
       "| 10 | 35 | 60 |  85 | 110 | 135 | 160 | 185 |\n",
       "| 15 | 40 | 65 |  90 | 115 | 140 | 165 | 190 |\n",
       "| 20 | 45 | 70 |  95 | 120 | 145 | 170 | 195 |\n",
       "| 25 | 50 | 75 | 100 | 125 | 150 | 175 | 200 |\n",
       "\n"
      ],
      "text/plain": [
       "     [,1] [,2] [,3] [,4] [,5] [,6] [,7] [,8]\n",
       "[1,]  5   30   55    80  105  130  155  180 \n",
       "[2,] 10   35   60    85  110  135  160  185 \n",
       "[3,] 15   40   65    90  115  140  165  190 \n",
       "[4,] 20   45   70    95  120  145  170  195 \n",
       "[5,] 25   50   75   100  125  150  175  200 "
      ]
     },
     "metadata": {},
     "output_type": "display_data"
    }
   ],
   "source": [
    "my_matrix = matrix(seq(5, 200, 5), nrow = 5)\n",
    "my_matrix"
   ]
  },
  {
   "cell_type": "code",
   "execution_count": 13,
   "id": "82834ab1-974f-423d-9aad-38594e0ce580",
   "metadata": {},
   "outputs": [
    {
     "data": {
      "text/html": [
       "8"
      ],
      "text/latex": [
       "8"
      ],
      "text/markdown": [
       "8"
      ],
      "text/plain": [
       "[1] 8"
      ]
     },
     "metadata": {},
     "output_type": "display_data"
    },
    {
     "data": {
      "text/html": [
       "55"
      ],
      "text/latex": [
       "55"
      ],
      "text/markdown": [
       "55"
      ],
      "text/plain": [
       "[1] 55"
      ]
     },
     "metadata": {},
     "output_type": "display_data"
    },
    {
     "data": {
      "text/html": [
       "<style>\n",
       ".list-inline {list-style: none; margin:0; padding: 0}\n",
       ".list-inline>li {display: inline-block}\n",
       ".list-inline>li:not(:last-child)::after {content: \"\\00b7\"; padding: 0 .5ex}\n",
       "</style>\n",
       "<ol class=list-inline><li>5</li><li>30</li><li>55</li><li>80</li><li>105</li><li>130</li><li>155</li><li>180</li></ol>\n"
      ],
      "text/latex": [
       "\\begin{enumerate*}\n",
       "\\item 5\n",
       "\\item 30\n",
       "\\item 55\n",
       "\\item 80\n",
       "\\item 105\n",
       "\\item 130\n",
       "\\item 155\n",
       "\\item 180\n",
       "\\end{enumerate*}\n"
      ],
      "text/markdown": [
       "1. 5\n",
       "2. 30\n",
       "3. 55\n",
       "4. 80\n",
       "5. 105\n",
       "6. 130\n",
       "7. 155\n",
       "8. 180\n",
       "\n",
       "\n"
      ],
      "text/plain": [
       "[1]   5  30  55  80 105 130 155 180"
      ]
     },
     "metadata": {},
     "output_type": "display_data"
    },
    {
     "data": {
      "text/html": [
       "<style>\n",
       ".list-inline {list-style: none; margin:0; padding: 0}\n",
       ".list-inline>li {display: inline-block}\n",
       ".list-inline>li:not(:last-child)::after {content: \"\\00b7\"; padding: 0 .5ex}\n",
       "</style>\n",
       "<ol class=list-inline><li>105</li><li>110</li><li>115</li><li>120</li><li>125</li></ol>\n"
      ],
      "text/latex": [
       "\\begin{enumerate*}\n",
       "\\item 105\n",
       "\\item 110\n",
       "\\item 115\n",
       "\\item 120\n",
       "\\item 125\n",
       "\\end{enumerate*}\n"
      ],
      "text/markdown": [
       "1. 105\n",
       "2. 110\n",
       "3. 115\n",
       "4. 120\n",
       "5. 125\n",
       "\n",
       "\n"
      ],
      "text/plain": [
       "[1] 105 110 115 120 125"
      ]
     },
     "metadata": {},
     "output_type": "display_data"
    },
    {
     "data": {
      "text/html": [
       "<table class=\"dataframe\">\n",
       "<caption>A matrix: 3 × 2 of type dbl</caption>\n",
       "<tbody>\n",
       "\t<tr><td> 5</td><td>30</td></tr>\n",
       "\t<tr><td>10</td><td>35</td></tr>\n",
       "\t<tr><td>15</td><td>40</td></tr>\n",
       "</tbody>\n",
       "</table>\n"
      ],
      "text/latex": [
       "A matrix: 3 × 2 of type dbl\n",
       "\\begin{tabular}{ll}\n",
       "\t  5 & 30\\\\\n",
       "\t 10 & 35\\\\\n",
       "\t 15 & 40\\\\\n",
       "\\end{tabular}\n"
      ],
      "text/markdown": [
       "\n",
       "A matrix: 3 × 2 of type dbl\n",
       "\n",
       "|  5 | 30 |\n",
       "| 10 | 35 |\n",
       "| 15 | 40 |\n",
       "\n"
      ],
      "text/plain": [
       "     [,1] [,2]\n",
       "[1,]  5   30  \n",
       "[2,] 10   35  \n",
       "[3,] 15   40  "
      ]
     },
     "metadata": {},
     "output_type": "display_data"
    },
    {
     "data": {
      "text/html": [
       "<table class=\"dataframe\">\n",
       "<caption>A matrix: 8 × 5 of type dbl</caption>\n",
       "<tbody>\n",
       "\t<tr><td>  5</td><td> 10</td><td> 15</td><td> 20</td><td> 25</td></tr>\n",
       "\t<tr><td> 30</td><td> 35</td><td> 40</td><td> 45</td><td> 50</td></tr>\n",
       "\t<tr><td> 55</td><td> 60</td><td> 65</td><td> 70</td><td> 75</td></tr>\n",
       "\t<tr><td> 80</td><td> 85</td><td> 90</td><td> 95</td><td>100</td></tr>\n",
       "\t<tr><td>105</td><td>110</td><td>115</td><td>120</td><td>125</td></tr>\n",
       "\t<tr><td>130</td><td>135</td><td>140</td><td>145</td><td>150</td></tr>\n",
       "\t<tr><td>155</td><td>160</td><td>165</td><td>170</td><td>175</td></tr>\n",
       "\t<tr><td>180</td><td>185</td><td>190</td><td>195</td><td>200</td></tr>\n",
       "</tbody>\n",
       "</table>\n"
      ],
      "text/latex": [
       "A matrix: 8 × 5 of type dbl\n",
       "\\begin{tabular}{lllll}\n",
       "\t   5 &  10 &  15 &  20 &  25\\\\\n",
       "\t  30 &  35 &  40 &  45 &  50\\\\\n",
       "\t  55 &  60 &  65 &  70 &  75\\\\\n",
       "\t  80 &  85 &  90 &  95 & 100\\\\\n",
       "\t 105 & 110 & 115 & 120 & 125\\\\\n",
       "\t 130 & 135 & 140 & 145 & 150\\\\\n",
       "\t 155 & 160 & 165 & 170 & 175\\\\\n",
       "\t 180 & 185 & 190 & 195 & 200\\\\\n",
       "\\end{tabular}\n"
      ],
      "text/markdown": [
       "\n",
       "A matrix: 8 × 5 of type dbl\n",
       "\n",
       "|   5 |  10 |  15 |  20 |  25 |\n",
       "|  30 |  35 |  40 |  45 |  50 |\n",
       "|  55 |  60 |  65 |  70 |  75 |\n",
       "|  80 |  85 |  90 |  95 | 100 |\n",
       "| 105 | 110 | 115 | 120 | 125 |\n",
       "| 130 | 135 | 140 | 145 | 150 |\n",
       "| 155 | 160 | 165 | 170 | 175 |\n",
       "| 180 | 185 | 190 | 195 | 200 |\n",
       "\n"
      ],
      "text/plain": [
       "     [,1] [,2] [,3] [,4] [,5]\n",
       "[1,]   5   10   15   20   25 \n",
       "[2,]  30   35   40   45   50 \n",
       "[3,]  55   60   65   70   75 \n",
       "[4,]  80   85   90   95  100 \n",
       "[5,] 105  110  115  120  125 \n",
       "[6,] 130  135  140  145  150 \n",
       "[7,] 155  160  165  170  175 \n",
       "[8,] 180  185  190  195  200 "
      ]
     },
     "metadata": {},
     "output_type": "display_data"
    }
   ],
   "source": [
    "ncol(my_matrix)\n",
    "my_matrix[1, 3]\n",
    "my_matrix[1, ]\n",
    "my_matrix[, 5]\n",
    "my_matrix[1:3, 1:2]\n",
    "t(my_matrix)"
   ]
  },
  {
   "cell_type": "markdown",
   "id": "70c8ff56-5393-49b6-9d7e-12ff7154e479",
   "metadata": {},
   "source": [
    "## Loops <a name=\"loops\"></a>\n",
    "- Concept of loops\n",
    "- How to write a for loop"
   ]
  },
  {
   "cell_type": "markdown",
   "id": "2b856a2f-137c-4d3e-99f2-007f07494cc8",
   "metadata": {
    "tags": []
   },
   "source": [
    "## Functions <a name=\"functions\"></a>\n",
    "- Concept of functions\n",
    "- How to write a function\n",
    "- Concept of packages\n",
    "- How to load a package\n",
    "- Examples of functions (print, library, random number generation)"
   ]
  },
  {
   "cell_type": "markdown",
   "id": "3d8ce86c-0891-46ac-9b31-3614bbd059bf",
   "metadata": {
    "jp-MarkdownHeadingCollapsed": true,
    "tags": []
   },
   "source": [
    "---\n",
    "## ↪️ Next up: [Part 3 🔎 - Revising the basics of neural networks](./3_Revising_NNs.ipynb)"
   ]
  }
 ],
 "metadata": {
  "kernelspec": {
   "display_name": "R",
   "language": "R",
   "name": "ir"
  },
  "language_info": {
   "codemirror_mode": "r",
   "file_extension": ".r",
   "mimetype": "text/x-r-source",
   "name": "R",
   "pygments_lexer": "r",
   "version": "4.1.2"
  }
 },
 "nbformat": 4,
 "nbformat_minor": 5
}
