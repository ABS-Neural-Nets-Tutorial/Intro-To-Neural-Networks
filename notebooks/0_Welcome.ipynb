{
 "cells": [
  {
   "cell_type": "markdown",
   "id": "72529b71-98a0-4085-9bd1-7d6b44b40ebd",
   "metadata": {},
   "source": [
    "<img src=\"../static/banner.png\" align=\"center\"/>"
   ]
  },
  {
   "cell_type": "markdown",
   "id": "f67aa5c0-0d15-444f-87b2-6c4b5c8dd837",
   "metadata": {},
   "source": [
    "---"
   ]
  },
  {
   "cell_type": "markdown",
   "id": "822789f0-ce4d-47a7-8587-b2e3d051d81b",
   "metadata": {},
   "source": [
    "## Welcome! 👋🏾\n",
    "\n",
    "So you're keen to learn more about neural networks? You're in the right spot! This session is designed for anyone interested in learning more about how neural networks really work.\n",
    "\n",
    "If you have no coding experience, we have some introductory guides to Jupyter Notebooks (i.e. the thing you're reading off right now!) and coding in R, so check those out! If you're already comfortable in R, feel free to jump straight to the neural networks section."
   ]
  },
  {
   "cell_type": "markdown",
   "id": "5ca22831-03e0-4676-8f66-c3ac32494ab3",
   "metadata": {},
   "source": [
    "---"
   ]
  },
  {
   "cell_type": "markdown",
   "id": "0e33a733-93db-4b1b-844d-26e3e92e2313",
   "metadata": {
    "tags": []
   },
   "source": [
    "## Session Outline\n",
    "\n",
    "See below for an outline of what this session has in store."
   ]
  },
  {
   "cell_type": "markdown",
   "id": "dc0e94c6-a0f3-44be-80d6-5f153f658a85",
   "metadata": {},
   "source": [
    "#### [Part 1 📚 - Navigating Jupyter Notebooks](./1_Navigating_Notebooks.ipynb) (~10 mins) \n",
    "- We'll be using Jupyter Notebooks to write up our code in. We'll learn the basics of what Notebooks are and how to use them.\n",
    "\n",
    "#### [Part 2 👩‍💻 - Learning the ropes of coding in R](./2_Intro_to_R.ipynb) (~15 mins)\n",
    "- In order to code up a neural network in Part 3, you'll need to have some understanding of how to write code using the programming language called R.\n",
    "- If you've coded using R or another language before fantastic, this should be a breeze for you.\n",
    "- If not, don't stress! We really only need to cover a few basic concepts to get you up and running.\n",
    "- In particular, we'll need to know about data types (integers, floats, vectors, matrices and lists), variables, and loops and functions.\n",
    "\n",
    "#### [Part 3 🔎 - Revising the basics of neural networks](./3_Neural_Networks.ipynb) (~15 mins) \n",
    "- Revise the basics of machine learning and neural networks\n",
    "\n",
    "#### [Part 4 ✍🏾 - Creating neural networks to classify handwritten digits](./4_Creating_NNs.ipynb) (~80 mins) \n",
    "- Using only the concepts covered in the Intro to Neural Nets presentation, and the programming concepts described in Part 2, we'll create a simple *neural network* to classify handwritten digits.\n",
    "- We'll start by revising some of the basic, key concepts described in the first seminar, before diving into implementing a network \"from scratch\".\n",
    "\n",
    "#### [Part 5 🚀 - Onwards and upwards!](./4_Onwards_and_Upwards.ipynb) (~0 mins)\n",
    "- If you're keen to learn more about neural networks and/or coding using R, we've compiled a nice set of beginner friendly resources that you might want to take a look at."
   ]
  },
  {
   "cell_type": "markdown",
   "id": "0065b019-8af2-41c3-8cca-e45244105aff",
   "metadata": {},
   "source": [
    "---"
   ]
  },
  {
   "cell_type": "markdown",
   "id": "d55c8206-e597-4ff4-9a30-ccd8886f0fc2",
   "metadata": {
    "tags": []
   },
   "source": [
    "## Next up ⤵️\n",
    "### [Part 1 - Navigating Jupyter Notebooks](./1_Navigating_Notebooks.ipynb)"
   ]
  },
  {
   "cell_type": "markdown",
   "id": "55ebe1f5-51de-44c8-87fa-6f19c699c42f",
   "metadata": {
    "tags": []
   },
   "source": [
    "---\n",
    "## TODOs"
   ]
  },
  {
   "cell_type": "markdown",
   "id": "42b0a201-9d5f-4539-940c-1056086de3ab",
   "metadata": {},
   "source": [
    "- [x] Share with team to get thoughts\n",
    "- [x] Split part 3 into two: neural networks revision & classifing handwritten digits\n",
    "- [ ] Upload ABS logo and insert into pages\n",
    "- [ ] Fix titles and links\n",
    "- [ ] Figure out best way to get data into notebook (file on GitHub, pull from somewhere else on the web, OpenML API?)\n",
    "- [ ] Move to local development\n",
    "- [ ] Contextualise use of NNs vs other methods\n",
    "- [ ] Consider other intro tutorials (is the current one really beginner friendly?)\n",
    "- [ ] Consider streaming it into two groups: no experience and experience\n",
    "- [ ] Find cool gifs and memes and other ways to make the notebooks more visually interesting\n",
    "- [ ] Figure out exactly what packages we need and add them to repo (not entire tidyverse package, maybe only readr (ggplot?))\n"
   ]
  }
 ],
 "metadata": {
  "kernelspec": {
   "display_name": "R",
   "language": "R",
   "name": "ir"
  },
  "language_info": {
   "codemirror_mode": "r",
   "file_extension": ".r",
   "mimetype": "text/x-r-source",
   "name": "R",
   "pygments_lexer": "r",
   "version": "4.1.2"
  }
 },
 "nbformat": 4,
 "nbformat_minor": 5
}
