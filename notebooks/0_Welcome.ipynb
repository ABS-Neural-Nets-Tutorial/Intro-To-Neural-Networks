{
 "cells": [
  {
   "cell_type": "markdown",
   "id": "e700047c-1188-4cc7-951a-c267e21404d1",
   "metadata": {
    "tags": []
   },
   "source": [
    "![banner](../static/banner.png)\n",
    "\n",
    "---"
   ]
  },
  {
   "cell_type": "markdown",
   "id": "d3b03320-0f9a-44c5-92f2-e31869bf573a",
   "metadata": {
    "tags": []
   },
   "source": [
    "# Welcome! 👋🏾\n",
    "\n",
    "So you're keen to learn more about neural networks? You're in the right spot! \n",
    "\n",
    "In this session, we'll try to learn how neural networks work by creating one from the ground up, and learn a bunch of useful things about notebooks and coding in R along the way.\n",
    "\n",
    "---"
   ]
  },
  {
   "cell_type": "markdown",
   "id": "72529b71-98a0-4085-9bd1-7d6b44b40ebd",
   "metadata": {
    "tags": []
   },
   "source": [
    "# Session Outline\n",
    "\n",
    "See below for an outline of what this session has in store.\n",
    "\n",
    "**Note:** If you're already comfortable and familiar with notebooks and/or R, just let us know and jump ahead.\n",
    "\n",
    "### [Part 1 📚 - Exploring Jupyter Notebooks](./1_Exploring_Notebooks.ipynb) (~15 to 20 mins) \n",
    "- This session has been designed to be delivered using notebooks!\n",
    "- To follow along and get the most out of the session, it'll help to know what notebooks are, why they're cool and how you can use them.\n",
    "\n",
    "### [Part 2 👩‍💻 - Learning the ropes of coding in R](./2_Learning_R.ipynb) (~5 to 25 mins)\n",
    "- In order to understand or write the code required to create a neural network, you'll need to know some programming basics.\n",
    "- In this session, we'll be using the programming language called **R**.\n",
    "- If you've coded using R or another language before fantastic, there's nothing fancy going on here.\n",
    "- If not, don't stress! We really only need to cover a few basic concepts to get you up and running, namely about some data types (particularly matrices and lists), variables, loops and functions.\n",
    "\n",
    "### [Part 3 🔎 - Revising the basics of neural networks](./3_Revising_NNs.ipynb) (~15 mins) \n",
    "- We'll quickly revise some of the machine learning and neural network basics covered in the first seminar.\n",
    "\n",
    "### [Part 4 ✍🏾 - Creating neural networks to classify handwritten digits](./4_Creating_NNs.ipynb) (~60 mins) \n",
    "- Using *only* the concepts covered in the seminar and programming concepts covered in Part 2, we'll design and create, from the ground up, a simple **neural network** to classify handwritten digits.\n",
    "\n",
    "### [Part 5 🚀 - Discovering more](./5_Discovering_More.ipynb) (~0 mins)\n",
    "- If you're keen to learn more about anything we covered today (including things we didn't cover but probably really should have), we've compiled a nice set of friendly resources, links and events to have a look at!\n",
    "\n",
    "---"
   ]
  },
  {
   "cell_type": "markdown",
   "id": "2ed650f4-cee2-4d23-8a75-ac806f0ed65d",
   "metadata": {},
   "source": [
    "## Following along\n",
    "This session has been designed for you to view the notebooks interactively over the web, and we strongly recommend following this approach. However, it's also possible to work directly from your local machine (e.g. using RStudio) if you're unable to access the interactive web notebooks. \n",
    "\n",
    "**Note:** If you're viewing the notebooks directly on Github, the links between notebooks won't work; nagivate between the notebooks through Github instead.\n",
    "\n",
    "---"
   ]
  },
  {
   "cell_type": "markdown",
   "id": "1fe33d15-bc33-41aa-861d-4cc310dc738e",
   "metadata": {
    "tags": []
   },
   "source": [
    "## ↪️ Next up: [Part 1 📚 - Navigating Jupyter Notebooks](./1_Exploring_Notebooks.ipynb)"
   ]
  }
 ],
 "metadata": {
  "kernelspec": {
   "display_name": "R",
   "language": "R",
   "name": "ir"
  },
  "language_info": {
   "codemirror_mode": "r",
   "file_extension": ".r",
   "mimetype": "text/x-r-source",
   "name": "R",
   "pygments_lexer": "r",
   "version": "4.1.2"
  }
 },
 "nbformat": 4,
 "nbformat_minor": 5
}
