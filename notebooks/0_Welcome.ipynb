{
 "cells": [
  {
   "cell_type": "markdown",
   "id": "e700047c-1188-4cc7-951a-c267e21404d1",
   "metadata": {
    "tags": []
   },
   "source": [
    "![banner](../static/banner.png)\n",
    "\n",
    "---"
   ]
  },
  {
   "cell_type": "markdown",
   "id": "d3b03320-0f9a-44c5-92f2-e31869bf573a",
   "metadata": {
    "tags": []
   },
   "source": [
    "# Welcome! 👋🏾\n",
    "\n",
    "So you're keen to learn more about neural networks? You're in the right spot! \n",
    "\n",
    "In this session, we'll try to learn how neural networks work by creating one from the ground up, and learn a bunch of useful things about notebooks and coding in R along the way.\n",
    "\n",
    "---"
   ]
  },
  {
   "cell_type": "markdown",
   "id": "72529b71-98a0-4085-9bd1-7d6b44b40ebd",
   "metadata": {
    "tags": []
   },
   "source": [
    "# Session Outline\n",
    "\n",
    "See below for an outline of what this session has in store.\n",
    "\n",
    "**Note:** If you're already comfortable and familiar with notebooks and/or R, just let us know and jump ahead.\n",
    "\n",
    "### [Part 1 📚 - Navigating Jupyter Notebooks](./1_Navigating_Notebooks.ipynb) (~15 mins) \n",
    "- This session has been designed to be delivered using notebooks!\n",
    "- To follow along and get the most out of the session, it'll help to know what notebooks are, why they're cool and how you can use them.\n",
    "\n",
    "### [Part 2 👩‍💻 - Learning the ropes of coding in R](./2_Learning_R.ipynb) (~15 mins)\n",
    "- In order to understand or write the code required to create a neural network, you'll need to know some programming basics.\n",
    "- In this session, we'll be using the programming language called **R**.\n",
    "- If you've coded using R or another language before fantastic, there's nothing fancy going on here.\n",
    "- If not, don't stress! We really only need to cover a few basic concepts to get you up and running, namely about some data types (particularly matrices and lists), variables, loops and functions.\n",
    "\n",
    "### [Part 3 🔎 - Revising the basics of neural networks](./3_Revising_NNs.ipynb) (~15 mins) \n",
    "- We'll quickly revise some of the machine learning and neural network basics covered in the first seminar.\n",
    "\n",
    "### [Part 4 ✍🏾 - Creating neural networks to classify handwritten digits](./4_Creating_NNs.ipynb) (~70 mins) \n",
    "- Using *only* the concepts covered in the seminar and programming concepts covered in Part 2, we'll design and create, from the ground up, a simple **neural network** to classify handwritten digits.\n",
    "\n",
    "### [Part 5 🚀 - Onwards and upwards!](./5_Onwards_and_Upwards.ipynb) (~0 mins)\n",
    "- If you're keen to learn more about anything we covered today (including things we didn't cover but probably really should have), we've compiled a nice set of friendly resources, links and events to have a look at!\n",
    "\n",
    "---"
   ]
  },
  {
   "cell_type": "markdown",
   "id": "2ed650f4-cee2-4d23-8a75-ac806f0ed65d",
   "metadata": {},
   "source": [
    "## Following along\n",
    "This session has been designed for you to view the notebooks interactively over the web at [this link](https://mybinder.org/v2/gh/ABS-Neural-Nets-Tutorial/Intro-To-Neural-Nets-Env/main?urlpath=git-pull%3Frepo%3Dhttps%253A%252F%252Fgithub.com%252FABS-Neural-Nets-Tutorial%252FIntro-To-Neural-Networks%26urlpath%3Dlab%252Ftree%252FIntro-To-Neural-Networks%252Fnotebooks%252F0_Welcome.ipynb%26branch%3Dmain), and we strongly recommend following this approach. However, it's also possible to work directly from your local machine (e.g. using RStudio) if you're unable to access the interactive web notebooks. \n",
    "\n",
    "**Note:** If you're viewing the notebooks directly on Github, the links between notebooks won't work; nagivate between the notebooks through Github instead.\n",
    "\n",
    "---"
   ]
  },
  {
   "cell_type": "markdown",
   "id": "1fe33d15-bc33-41aa-861d-4cc310dc738e",
   "metadata": {
    "tags": []
   },
   "source": [
    "## ↪️ Next up: [Part 1 📚 - Navigating Jupyter Notebooks](./1_Navigating_Notebooks.ipynb)"
   ]
  },
  {
   "cell_type": "markdown",
   "id": "55ebe1f5-51de-44c8-87fa-6f19c699c42f",
   "metadata": {
    "tags": []
   },
   "source": [
    "---\n",
    "## TODOs\n",
    "- [x] Share with team to get thoughts\n",
    "- [x] Split part 3 into two: neural networks revision & classifing handwritten digits\n",
    "- [x] Split across separate notebooks, getting too big to all be in one\n",
    "- [x] Upload ABS logo and insert into pages\n",
    "- [x] Move to local development\n",
    "- [x] Fix titles and links\n",
    "- [x] Figure out exactly what packages we need and add them to repo (currently ggplot2 and data.table)\n",
    "- [x] Install streamgraph in env repo\n",
    "- [x] Write part 1 (1 h) (5 h lol)\n",
    "- [x] Polish up part 0\n",
    "- [ ] Rotate MNIST digits around the right way\n",
    "- [ ] Polish up part 2 (1 h)\n",
    "- [ ] Write part 3 (2 h)\n",
    "- [ ] **Figure out how to make the part 4 interactive**\n",
    "- [ ] Write code to visualise numbers.\n",
    "- [ ] Consider get full MNIST data set or making current one smaller (decrease training time?)\n",
    "- [ ] Write instructions for options: running locally vs online (this server is not persistent)\n",
    "- [ ] Figure out best way to get data into notebook (file on GitHub, pull from somewhere else on the web, OpenML API?)\n",
    "- [ ] Contextualise use of NNs vs other methods\n",
    "- [ ] Consider other intro tutorials (is the current one really beginner friendly?)\n",
    "- [ ] Consider streaming it into two groups: no experience and experience. If do, update part 0.\n",
    "- [ ] Find cool gifs and memes and other ways to make the notebooks more visually interesting\n",
    "\n",
    "- [ ] See if changing to absolute links allows links to work when viewed statically\n",
    "\n",
    "- https://stats.stackexchange.com/questions/43538/what-is-the-difference-between-logistic-regression-and-neural-networks"
   ]
  }
 ],
 "metadata": {
  "kernelspec": {
   "display_name": "R",
   "language": "R",
   "name": "ir"
  },
  "language_info": {
   "codemirror_mode": "r",
   "file_extension": ".r",
   "mimetype": "text/x-r-source",
   "name": "R",
   "pygments_lexer": "r",
   "version": "4.1.2"
  }
 },
 "nbformat": 4,
 "nbformat_minor": 5
}
