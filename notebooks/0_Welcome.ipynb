{
 "cells": [
  {
   "cell_type": "markdown",
   "id": "e700047c-1188-4cc7-951a-c267e21404d1",
   "metadata": {
    "tags": []
   },
   "source": [
    "![banner](../static/banner.png)\n",
    "\n",
    "---"
   ]
  },
  {
   "cell_type": "markdown",
   "id": "d3b03320-0f9a-44c5-92f2-e31869bf573a",
   "metadata": {
    "tags": []
   },
   "source": [
    "# Welcome! 👋🏾\n",
    "\n",
    "So you're keen to learn more about neural networks? You're in the right spot! This session is designed for anyone interested in learning more about how neural networks really work.\n",
    "\n",
    "If you have no coding experience, we have some introductory guides to Jupyter Notebooks (i.e. the thing you're reading off right now!) and coding in R, so check those out! If you're already comfortable in R, feel free to jump straight to the neural networks section.\n",
    "\n",
    "---"
   ]
  },
  {
   "cell_type": "markdown",
   "id": "72529b71-98a0-4085-9bd1-7d6b44b40ebd",
   "metadata": {
    "tags": []
   },
   "source": [
    "# Session Outline\n",
    "\n",
    "See below for an outline of what this session has in store.\n",
    "\n",
    "### [Part 1 📚 - Navigating Jupyter Notebooks](./1_Navigating_Notebooks.ipynb) (~10 mins) \n",
    "- We'll be using Jupyter Notebooks to write up our code in. We'll learn the basics of what Notebooks are and how to use them.\n",
    "\n",
    "### [Part 2 👩‍💻 - Learning the ropes of coding in R](./2_Intro_to_R.ipynb) (~15 mins)\n",
    "- In order to code up a neural network in Part 3, you'll need to have some understanding of how to write code using the programming language called R.\n",
    "- If you've coded using R or another language before fantastic, this should be a breeze for you.\n",
    "- If not, don't stress! We really only need to cover a few basic concepts to get you up and running.\n",
    "- In particular, we'll need to know about data types (integers, floats, vectors, matrices and lists), variables, and loops and functions.\n",
    "\n",
    "### [Part 3 🔎 - Revising the basics of neural networks](./3_Revising_NNs.ipynb) (~15 mins) \n",
    "- Revise the basics of machine learning and neural networks\n",
    "\n",
    "### [Part 4 ✍🏾 - Creating neural networks to classify handwritten digits](./4_Creating_NNs.ipynb) (~80 mins) \n",
    "- Using only the concepts covered in the Intro to Neural Nets presentation, and the programming concepts described in Part 2, we'll create a simple *neural network* to classify handwritten digits.\n",
    "- We'll start by revising some of the basic, key concepts described in the first seminar, before diving into implementing a network \"from scratch\".\n",
    "\n",
    "### [Part 5 🚀 - Onwards and upwards!](./5_Onwards_and_Upwards.ipynb) (~0 mins)\n",
    "- If you're keen to learn more about neural networks and/or coding using R, we've compiled a nice set of beginner friendly resources that you might want to take a look at.\n",
    "\n",
    "---"
   ]
  },
  {
   "cell_type": "markdown",
   "id": "2ed650f4-cee2-4d23-8a75-ac806f0ed65d",
   "metadata": {},
   "source": [
    "## Following along\n",
    "- Can either work through these notebooks directly and interactively through binder\n",
    "- Can install RStudio in local environment and work there, viewing static notebooks on GitHub\n",
    "---"
   ]
  },
  {
   "cell_type": "markdown",
   "id": "1fe33d15-bc33-41aa-861d-4cc310dc738e",
   "metadata": {
    "tags": []
   },
   "source": [
    "## ↪️ Next up: [Part 1 📚 - Navigating Jupyter Notebooks](./1_Navigating_Notebooks.ipynb)"
   ]
  },
  {
   "cell_type": "markdown",
   "id": "55ebe1f5-51de-44c8-87fa-6f19c699c42f",
   "metadata": {
    "tags": []
   },
   "source": [
    "---\n",
    "## TODOs\n",
    "- [x] Share with team to get thoughts\n",
    "- [x] Split part 3 into two: neural networks revision & classifing handwritten digits\n",
    "- [x] Split across separate notebooks, getting too big to all be in one\n",
    "- [x] Upload ABS logo and insert into pages\n",
    "- [x] Move to local development\n",
    "- [x] Fix titles and links\n",
    "- [x] Figure out exactly what packages we need and add them to repo (currently ggplot2 and data.table)\n",
    "- [ ] Write part 1 (1 h)\n",
    "- [ ] Polish up part 2 (1 h)\n",
    "- [ ] Write part 3 (2 h)\n",
    "- [ ] **Figure out how to make the part 4 interactive**\n",
    "- [ ] Consider get full MNIST data set or making current one smaller (decrease training time?)\n",
    "- [ ] Write instructions for options: running locally vs online (this server is not persistent)\n",
    "- [ ] Figure out best way to get data into notebook (file on GitHub, pull from somewhere else on the web, OpenML API?)\n",
    "- [ ] Contextualise use of NNs vs other methods\n",
    "- [ ] Consider other intro tutorials (is the current one really beginner friendly?)\n",
    "- [ ] Consider streaming it into two groups: no experience and experience\n",
    "- [ ] Find cool gifs and memes and other ways to make the notebooks more visually interesting\n",
    "- [ ] Polish up part 0\n"
   ]
  }
 ],
 "metadata": {
  "kernelspec": {
   "display_name": "R",
   "language": "R",
   "name": "ir"
  },
  "language_info": {
   "codemirror_mode": "r",
   "file_extension": ".r",
   "mimetype": "text/x-r-source",
   "name": "R",
   "pygments_lexer": "r",
   "version": "4.1.2"
  }
 },
 "nbformat": 4,
 "nbformat_minor": 5
}
