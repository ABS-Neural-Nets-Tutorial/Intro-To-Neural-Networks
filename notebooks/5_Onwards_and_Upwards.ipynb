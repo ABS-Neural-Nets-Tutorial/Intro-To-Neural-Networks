{
 "cells": [
  {
   "cell_type": "markdown",
   "id": "c0a17ff3-0cd2-46a3-a6e9-5e63c5f06ef2",
   "metadata": {
    "tags": []
   },
   "source": [
    "![banner](../static/banner.png)\n",
    "\n",
    "---"
   ]
  },
  {
   "cell_type": "markdown",
   "id": "19be7f51-9e45-4130-9f76-0ac32176d54a",
   "metadata": {
    "tags": []
   },
   "source": [
    "# Part 5 - Onwards and upwards! 🚀\n",
    "And thats a wrap! Thanks for attending, we hope you learned a bunch about neural networks and had some fun. If you're interested in learning more, check out the resources and recommendations below:"
   ]
  },
  {
   "cell_type": "markdown",
   "id": "0b61e7b6-b7f5-4f62-8026-a301b96ab973",
   "metadata": {},
   "source": [
    "## Important things that we didn't cover...\n",
    "- Practical training (GD over all training examples vs SGD over mini-batches)\n",
    "\n",
    "## Want to learn more about coding in R?\n",
    "- Learn more about [Jupyter Notebooks](https://jupyterlab.readthedocs.io/en/stable/user/notebook.html) and the [Jupyter Lab interface](https://jupyterlab.readthedocs.io/en/stable/user/interface.html) from the official documentation.\n",
    "- Insert here\n",
    "\n",
    "## Want to learn more about neural networks and/or machine learning more broadly?\n",
    "- Join the ABS Machine Learning Community of Practice \n",
    "- 3b1b NN video series on youtube\n",
    "- StatsQuest youtube channel\n",
    "- http://neuralnetworksanddeeplearning.com/\n",
    "- https://www.kaggle.com/\n",
    "\n",
    "More advanced:\n",
    "- Part 3 & 4 of ABS Neural Network Learning Sessions\n",
    "- https://d2l.ai/\n",
    "\n",
    "\n",
    "## Resources referenced in construction this tutorial\n",
    "- https://github.com/ABS-Neural-Nets-Tutorial/Intro-To-Neural-Networks\n",
    "- https://jupyterhub.github.io/nbgitpuller/link\n",
    "- https://discourse.jupyter.org/t/tip-speed-up-binder-launches-by-pulling-github-content-in-a-binder-link-with-nbgitpuller/922\n",
    "- https://mybinder.readthedocs.io/en/latest/howto/external_binder_setup.html\n",
    "- https://github.com/binder-examples/\n",
    "\n"
   ]
  }
 ],
 "metadata": {
  "kernelspec": {
   "display_name": "R",
   "language": "R",
   "name": "ir"
  },
  "language_info": {
   "codemirror_mode": "r",
   "file_extension": ".r",
   "mimetype": "text/x-r-source",
   "name": "R",
   "pygments_lexer": "r",
   "version": "4.1.2"
  }
 },
 "nbformat": 4,
 "nbformat_minor": 5
}
