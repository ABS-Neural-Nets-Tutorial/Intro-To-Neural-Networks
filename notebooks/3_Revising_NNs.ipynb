{
 "cells": [
  {
   "cell_type": "markdown",
   "id": "2cca48ff-2648-4abe-ba00-35e878c3d552",
   "metadata": {
    "tags": []
   },
   "source": [
    "# ABS - Intro to Neural Networks Learning Session\n",
    "---\n",
    "## Part 3 - Using neural networks to classify handwritten digits 🧠\n"
   ]
  },
  {
   "cell_type": "markdown",
   "id": "76b02c21-3976-43d7-929d-2759d117c005",
   "metadata": {},
   "source": [
    "### Neural networks revision 💡"
   ]
  },
  {
   "cell_type": "markdown",
   "id": "704a5297-4791-4bb1-8d23-909aedb97485",
   "metadata": {},
   "source": [
    "- What is a Neural Network? (Neurons, layers, weights, biases, activations, notation)\n",
    "- What are they useful for?\n",
    "- How do they \"learn\"? (Gradient descent)\n",
    "- Try to explain backward propagation without using maths? See 3b1b video??"
   ]
  },
  {
   "cell_type": "markdown",
   "id": "f77fbef8-187a-42c9-946a-1e975846046f",
   "metadata": {
    "tags": []
   },
   "source": [
    "---\n",
    "## Next up ⤵️\n",
    "### [Part 4 - Onwards and upwards!](./4_Onwards_and_Upwards.ipynb)"
   ]
  }
 ],
 "metadata": {
  "kernelspec": {
   "display_name": "R",
   "language": "R",
   "name": "ir"
  },
  "language_info": {
   "codemirror_mode": "r",
   "file_extension": ".r",
   "mimetype": "text/x-r-source",
   "name": "R",
   "pygments_lexer": "r",
   "version": "4.1.2"
  }
 },
 "nbformat": 4,
 "nbformat_minor": 5
}
