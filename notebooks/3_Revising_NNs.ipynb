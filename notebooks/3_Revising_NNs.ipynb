{
 "cells": [
  {
   "cell_type": "markdown",
   "id": "06536e98-9f71-4fc7-80af-b978fe37c59d",
   "metadata": {},
   "source": [
    "![banner](../static/banner.png)\n",
    "\n",
    "---"
   ]
  },
  {
   "cell_type": "markdown",
   "id": "2cca48ff-2648-4abe-ba00-35e878c3d552",
   "metadata": {
    "tags": []
   },
   "source": [
    "# Part 3 - Revising the basics of neural networks 🔎\n",
    "- What is a Neural Network? (Neurons, layers, weights, biases, activations, notation)\n",
    "- What are they useful for?\n",
    "- How do they \"learn\"? (Gradient descent)\n",
    "- Try to explain backward propagation without using maths? See 3b1b video??"
   ]
  },
  {
   "cell_type": "markdown",
   "id": "8f4fb72f-9ca7-48cb-a469-16018d1736cf",
   "metadata": {
    "tags": []
   },
   "source": [
    "---\n",
    "## ↪️ Next up: [Part 4 ✍🏾 - Creating neural networks to classify handwritten digits](./4_Creating_NNs.ipynb)"
   ]
  }
 ],
 "metadata": {
  "kernelspec": {
   "display_name": "R",
   "language": "R",
   "name": "ir"
  },
  "language_info": {
   "codemirror_mode": "r",
   "file_extension": ".r",
   "mimetype": "text/x-r-source",
   "name": "R",
   "pygments_lexer": "r",
   "version": "4.1.2"
  }
 },
 "nbformat": 4,
 "nbformat_minor": 5
}
