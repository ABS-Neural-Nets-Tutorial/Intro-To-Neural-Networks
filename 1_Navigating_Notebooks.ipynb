{
 "cells": [
  {
   "cell_type": "markdown",
   "id": "e2e09505-e8d3-4f4c-aa8c-33669c0c28e4",
   "metadata": {
    "tags": []
   },
   "source": [
    "# ABS - Intro to Neural Networks Learning Session\n",
    "\n",
    "---"
   ]
  },
  {
   "cell_type": "markdown",
   "id": "f936d3c4-6de4-4acf-8827-d3cc6e5cd485",
   "metadata": {
    "tags": []
   },
   "source": [
    "## Part 1 - Navigating Jupyter Notebooks 📚"
   ]
  },
  {
   "cell_type": "markdown",
   "id": "5f80e307-de6e-4dcb-82fe-ce79d31a0ca8",
   "metadata": {},
   "source": [
    "- Explain what notebooks are\n",
    "- Show some of the basics \n",
    "    - Creating a new document\n",
    "    - Creating new cells\n",
    "    - Types of cells\n",
    "    - Concept of code chunks\n",
    "    - Running chunks\n",
    "    - Clearing outputs\n",
    "    - Checking kernel is assigned after period of inactivity\n",
    "    - Be careful about closing! This environment doesn't save things permanently... use download or save to browser storage buttons regularly?\n",
    "    - Navigating documents (sidebar, TOC, collapsing headings)\n",
    "    - Useful hotkeys\n",
    "- Give some examples of why they're useful!"
   ]
  },
  {
   "cell_type": "markdown",
   "id": "f0fa5b83-98d7-4ecd-9b60-8aadc1e54e55",
   "metadata": {
    "jp-MarkdownHeadingCollapsed": true,
    "tags": []
   },
   "source": [
    "---\n",
    "## Next up ⤵️\n",
    "### [Part 2 👩‍💻 - Learn the ropes of coding in R](./2_Intro_to_R.ipynb)"
   ]
  }
 ],
 "metadata": {
  "kernelspec": {
   "display_name": "R",
   "language": "R",
   "name": "ir"
  },
  "language_info": {
   "codemirror_mode": "r",
   "file_extension": ".r",
   "mimetype": "text/x-r-source",
   "name": "R",
   "pygments_lexer": "r",
   "version": "4.1.2"
  }
 },
 "nbformat": 4,
 "nbformat_minor": 5
}
