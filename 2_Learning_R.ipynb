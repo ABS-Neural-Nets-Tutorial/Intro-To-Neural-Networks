{
 "cells": [
  {
   "cell_type": "markdown",
   "id": "bdd9d2e5-3484-4115-8995-a39f38cdec05",
   "metadata": {
    "tags": []
   },
   "source": [
    "# ABS - Intro to Neural Networks Learning Session\n",
    "---\n",
    "## Part 2 - Learn the ropes of coding in R  👩‍💻\n",
    "If you've never coded before, haven't had much practice or are new to R in particular, don't fret! Below, we introduce all the bits and pieces you need in order to understand our neural network code."
   ]
  },
  {
   "cell_type": "markdown",
   "id": "0e19765e-e972-453d-80c8-d2a9e48cb821",
   "metadata": {
    "tags": []
   },
   "source": [
    "#### Arithmetic"
   ]
  },
  {
   "cell_type": "code",
   "execution_count": 21,
   "id": "0d38a869-7f22-4c06-a296-14e06bcccc55",
   "metadata": {},
   "outputs": [
    {
     "data": {
      "text/html": [
       "7"
      ],
      "text/latex": [
       "7"
      ],
      "text/markdown": [
       "7"
      ],
      "text/plain": [
       "[1] 7"
      ]
     },
     "metadata": {},
     "output_type": "display_data"
    },
    {
     "data": {
      "text/html": [
       "-3"
      ],
      "text/latex": [
       "-3"
      ],
      "text/markdown": [
       "-3"
      ],
      "text/plain": [
       "[1] -3"
      ]
     },
     "metadata": {},
     "output_type": "display_data"
    },
    {
     "data": {
      "text/html": [
       "15.12"
      ],
      "text/latex": [
       "15.12"
      ],
      "text/markdown": [
       "15.12"
      ],
      "text/plain": [
       "[1] 15.12"
      ]
     },
     "metadata": {},
     "output_type": "display_data"
    },
    {
     "data": {
      "text/html": [
       "-0.954929658551372"
      ],
      "text/latex": [
       "-0.954929658551372"
      ],
      "text/markdown": [
       "-0.954929658551372"
      ],
      "text/plain": [
       "[1] -0.9549297"
      ]
     },
     "metadata": {},
     "output_type": "display_data"
    }
   ],
   "source": [
    "# This is a comment! Arithmetic in R is simple.\n",
    "3 + 4\n",
    "4 - 7\n",
    "3.6 * 4.2\n",
    "-3 / pi"
   ]
  },
  {
   "cell_type": "markdown",
   "id": "8d1ccdb8-373c-4045-98ba-0425d1ac2c88",
   "metadata": {},
   "source": [
    "#### Data types"
   ]
  },
  {
   "cell_type": "code",
   "execution_count": 48,
   "id": "f5b6ea12-670a-419d-8dad-d1776a5197e2",
   "metadata": {},
   "outputs": [
    {
     "data": {
      "text/html": [
       "8"
      ],
      "text/latex": [
       "8"
      ],
      "text/markdown": [
       "8"
      ],
      "text/plain": [
       "[1] 8"
      ]
     },
     "metadata": {},
     "output_type": "display_data"
    },
    {
     "data": {
      "text/html": [
       "2.2"
      ],
      "text/latex": [
       "2.2"
      ],
      "text/markdown": [
       "2.2"
      ],
      "text/plain": [
       "[1] 2.2"
      ]
     },
     "metadata": {},
     "output_type": "display_data"
    },
    {
     "data": {
      "text/html": [
       "'hello!'"
      ],
      "text/latex": [
       "'hello!'"
      ],
      "text/markdown": [
       "'hello!'"
      ],
      "text/plain": [
       "[1] \"hello!\""
      ]
     },
     "metadata": {},
     "output_type": "display_data"
    },
    {
     "data": {
      "text/html": [
       "<style>\n",
       ".list-inline {list-style: none; margin:0; padding: 0}\n",
       ".list-inline>li {display: inline-block}\n",
       ".list-inline>li:not(:last-child)::after {content: \"\\00b7\"; padding: 0 .5ex}\n",
       "</style>\n",
       "<ol class=list-inline><li>'1'</li><li>'2'</li><li>'word'</li></ol>\n"
      ],
      "text/latex": [
       "\\begin{enumerate*}\n",
       "\\item '1'\n",
       "\\item '2'\n",
       "\\item 'word'\n",
       "\\end{enumerate*}\n"
      ],
      "text/markdown": [
       "1. '1'\n",
       "2. '2'\n",
       "3. 'word'\n",
       "\n",
       "\n"
      ],
      "text/plain": [
       "[1] \"1\"    \"2\"    \"word\""
      ]
     },
     "metadata": {},
     "output_type": "display_data"
    }
   ],
   "source": [
    "8\n",
    "2.2\n",
    "\"hello!\"\n",
    "c(1,2, \"word\")"
   ]
  },
  {
   "cell_type": "code",
   "execution_count": 49,
   "id": "a3f15221-a317-49b8-9a76-edc3033d8967",
   "metadata": {},
   "outputs": [
    {
     "data": {
      "text/html": [
       "<pre class=language-r><code>function (...) \n",
       "UseMethod(\"seq\")</code></pre>"
      ],
      "text/latex": [
       "\\begin{minted}{r}\n",
       "function (...) \n",
       "UseMethod(\"seq\")\n",
       "\\end{minted}"
      ],
      "text/markdown": [
       "```r\n",
       "function (...) \n",
       "UseMethod(\"seq\")\n",
       "```"
      ],
      "text/plain": [
       "function (...) \n",
       "UseMethod(\"seq\")\n",
       "<bytecode: 0x55635c3b0878>\n",
       "<environment: namespace:base>"
      ]
     },
     "metadata": {},
     "output_type": "display_data"
    },
    {
     "data": {
      "text/html": [
       "<pre class=language-r><code>function (x, ...) \n",
       "UseMethod(\"print\")</code></pre>"
      ],
      "text/latex": [
       "\\begin{minted}{r}\n",
       "function (x, ...) \n",
       "UseMethod(\"print\")\n",
       "\\end{minted}"
      ],
      "text/markdown": [
       "```r\n",
       "function (x, ...) \n",
       "UseMethod(\"print\")\n",
       "```"
      ],
      "text/plain": [
       "function (x, ...) \n",
       "UseMethod(\"print\")\n",
       "<bytecode: 0x55635f8986d0>\n",
       "<environment: namespace:base>"
      ]
     },
     "metadata": {},
     "output_type": "display_data"
    }
   ],
   "source": [
    "seq\n",
    "print"
   ]
  },
  {
   "cell_type": "code",
   "execution_count": 60,
   "id": "22b5411c-4cf0-451c-a121-dd5595e808ff",
   "metadata": {},
   "outputs": [
    {
     "data": {
      "text/html": [
       "<style>\n",
       ".list-inline {list-style: none; margin:0; padding: 0}\n",
       ".list-inline>li {display: inline-block}\n",
       ".list-inline>li:not(:last-child)::after {content: \"\\00b7\"; padding: 0 .5ex}\n",
       "</style>\n",
       "<ol class=list-inline><li>1</li><li>3</li><li>5</li><li>7</li><li>9</li></ol>\n"
      ],
      "text/latex": [
       "\\begin{enumerate*}\n",
       "\\item 1\n",
       "\\item 3\n",
       "\\item 5\n",
       "\\item 7\n",
       "\\item 9\n",
       "\\end{enumerate*}\n"
      ],
      "text/markdown": [
       "1. 1\n",
       "2. 3\n",
       "3. 5\n",
       "4. 7\n",
       "5. 9\n",
       "\n",
       "\n"
      ],
      "text/plain": [
       "[1] 1 3 5 7 9"
      ]
     },
     "metadata": {},
     "output_type": "display_data"
    }
   ],
   "source": [
    "seq(1,10,2)"
   ]
  },
  {
   "cell_type": "code",
   "execution_count": 61,
   "id": "f55220bc-8d64-47f7-b299-f78468b124d4",
   "metadata": {},
   "outputs": [
    {
     "data": {
      "text/html": [
       "'numeric'"
      ],
      "text/latex": [
       "'numeric'"
      ],
      "text/markdown": [
       "'numeric'"
      ],
      "text/plain": [
       "[1] \"numeric\""
      ]
     },
     "metadata": {},
     "output_type": "display_data"
    },
    {
     "data": {
      "text/html": [
       "'function'"
      ],
      "text/latex": [
       "'function'"
      ],
      "text/markdown": [
       "'function'"
      ],
      "text/plain": [
       "[1] \"function\""
      ]
     },
     "metadata": {},
     "output_type": "display_data"
    }
   ],
   "source": [
    "class(seq(1,10,2))\n",
    "class(print)"
   ]
  },
  {
   "cell_type": "markdown",
   "id": "42625268-6e2c-451a-9c98-0841f15a1038",
   "metadata": {
    "tags": []
   },
   "source": [
    "#### Variables <a name=\"variables\"></a>\n",
    "- Concept of a variable\n",
    "- How to assign variables (mention that in R, <- is often used, but for today we're going to use = as its more common)\n",
    "- How to view/print variables"
   ]
  },
  {
   "cell_type": "code",
   "execution_count": 38,
   "id": "7417c315-cc6d-43fa-a803-914f959bf6a3",
   "metadata": {},
   "outputs": [],
   "source": [
    "a = 7\n",
    "b = a - 3\n",
    "c <- \"dog\"\n",
    "d = a * b"
   ]
  },
  {
   "cell_type": "code",
   "execution_count": 36,
   "id": "7eb6e0c2-7d83-49fc-8acb-c301f4c50aae",
   "metadata": {},
   "outputs": [
    {
     "data": {
      "text/html": [
       "'dog'"
      ],
      "text/latex": [
       "'dog'"
      ],
      "text/markdown": [
       "'dog'"
      ],
      "text/plain": [
       "[1] \"dog\""
      ]
     },
     "metadata": {},
     "output_type": "display_data"
    }
   ],
   "source": [
    "c"
   ]
  },
  {
   "cell_type": "code",
   "execution_count": 39,
   "id": "b6b5aff3-4946-4195-9a6c-2242f4ef4db9",
   "metadata": {},
   "outputs": [
    {
     "name": "stdout",
     "output_type": "stream",
     "text": [
      "[1] 28\n"
     ]
    }
   ],
   "source": [
    "print(d)"
   ]
  },
  {
   "cell_type": "markdown",
   "id": "64e39832-9b52-46f8-b9e9-742ec935ba3c",
   "metadata": {},
   "source": [
    "#### Lists and matrices <a name=\"listsandmatrices\"></a>\n",
    "- Concept of lists and matrices\n",
    "- How to create a list\n",
    "- How to create a matrix\n",
    "- How to view a list or matrix\n",
    "- How to access elements of a list/matrix"
   ]
  },
  {
   "cell_type": "code",
   "execution_count": 80,
   "id": "97aa011d-40ea-4268-b52f-dc62098de6dd",
   "metadata": {},
   "outputs": [],
   "source": [
    "my_favs = list(colour = \"green\", number = 8, sequence = c(1,1,2,3,5,8,13,21,34,55), workplace = \"ABS\", R_function = abs)"
   ]
  },
  {
   "cell_type": "code",
   "execution_count": 81,
   "id": "cb39e11d-afb1-4b7d-a6ef-4a8fc5932c1b",
   "metadata": {},
   "outputs": [
    {
     "data": {
      "text/html": [
       "<dl>\n",
       "\t<dt>$colour</dt>\n",
       "\t\t<dd>'green'</dd>\n",
       "\t<dt>$number</dt>\n",
       "\t\t<dd>8</dd>\n",
       "\t<dt>$sequence</dt>\n",
       "\t\t<dd><style>\n",
       ".list-inline {list-style: none; margin:0; padding: 0}\n",
       ".list-inline>li {display: inline-block}\n",
       ".list-inline>li:not(:last-child)::after {content: \"\\00b7\"; padding: 0 .5ex}\n",
       "</style>\n",
       "<ol class=list-inline><li>1</li><li>1</li><li>2</li><li>3</li><li>5</li><li>8</li><li>13</li><li>21</li><li>34</li><li>55</li></ol>\n",
       "</dd>\n",
       "\t<dt>$workplace</dt>\n",
       "\t\t<dd>'ABS'</dd>\n",
       "\t<dt>$R_function</dt>\n",
       "\t\t<dd><pre class=language-r><code>.Primitive(\"abs\")</code></pre></dd>\n",
       "</dl>\n"
      ],
      "text/latex": [
       "\\begin{description}\n",
       "\\item[\\$colour] 'green'\n",
       "\\item[\\$number] 8\n",
       "\\item[\\$sequence] \\begin{enumerate*}\n",
       "\\item 1\n",
       "\\item 1\n",
       "\\item 2\n",
       "\\item 3\n",
       "\\item 5\n",
       "\\item 8\n",
       "\\item 13\n",
       "\\item 21\n",
       "\\item 34\n",
       "\\item 55\n",
       "\\end{enumerate*}\n",
       "\n",
       "\\item[\\$workplace] 'ABS'\n",
       "\\item[\\$R\\_function] \\begin{minted}{r}\n",
       ".Primitive(\"abs\")\n",
       "\\end{minted}\n",
       "\\end{description}\n"
      ],
      "text/markdown": [
       "$colour\n",
       ":   'green'\n",
       "$number\n",
       ":   8\n",
       "$sequence\n",
       ":   1. 1\n",
       "2. 1\n",
       "3. 2\n",
       "4. 3\n",
       "5. 5\n",
       "6. 8\n",
       "7. 13\n",
       "8. 21\n",
       "9. 34\n",
       "10. 55\n",
       "\n",
       "\n",
       "\n",
       "$workplace\n",
       ":   'ABS'\n",
       "$R_function\n",
       ":   ```r\n",
       ".Primitive(\"abs\")\n",
       "```\n",
       "\n",
       "\n"
      ],
      "text/plain": [
       "$colour\n",
       "[1] \"green\"\n",
       "\n",
       "$number\n",
       "[1] 8\n",
       "\n",
       "$sequence\n",
       " [1]  1  1  2  3  5  8 13 21 34 55\n",
       "\n",
       "$workplace\n",
       "[1] \"ABS\"\n",
       "\n",
       "$R_function\n",
       "function (x)  .Primitive(\"abs\")\n"
      ]
     },
     "metadata": {},
     "output_type": "display_data"
    }
   ],
   "source": [
    "my_favs"
   ]
  },
  {
   "cell_type": "code",
   "execution_count": 82,
   "id": "d597dfa8-e6c9-4b78-aecd-4411377d3a35",
   "metadata": {},
   "outputs": [
    {
     "data": {
      "text/html": [
       "'green'"
      ],
      "text/latex": [
       "'green'"
      ],
      "text/markdown": [
       "'green'"
      ],
      "text/plain": [
       "[1] \"green\""
      ]
     },
     "metadata": {},
     "output_type": "display_data"
    },
    {
     "data": {
      "text/html": [
       "<style>\n",
       ".list-inline {list-style: none; margin:0; padding: 0}\n",
       ".list-inline>li {display: inline-block}\n",
       ".list-inline>li:not(:last-child)::after {content: \"\\00b7\"; padding: 0 .5ex}\n",
       "</style>\n",
       "<ol class=list-inline><li>1</li><li>1</li><li>2</li><li>3</li><li>5</li><li>8</li><li>13</li><li>21</li><li>34</li><li>55</li></ol>\n"
      ],
      "text/latex": [
       "\\begin{enumerate*}\n",
       "\\item 1\n",
       "\\item 1\n",
       "\\item 2\n",
       "\\item 3\n",
       "\\item 5\n",
       "\\item 8\n",
       "\\item 13\n",
       "\\item 21\n",
       "\\item 34\n",
       "\\item 55\n",
       "\\end{enumerate*}\n"
      ],
      "text/markdown": [
       "1. 1\n",
       "2. 1\n",
       "3. 2\n",
       "4. 3\n",
       "5. 5\n",
       "6. 8\n",
       "7. 13\n",
       "8. 21\n",
       "9. 34\n",
       "10. 55\n",
       "\n",
       "\n"
      ],
      "text/plain": [
       " [1]  1  1  2  3  5  8 13 21 34 55"
      ]
     },
     "metadata": {},
     "output_type": "display_data"
    }
   ],
   "source": [
    "my_favs$colour\n",
    "my_favs[[\"sequence\"]]"
   ]
  },
  {
   "cell_type": "code",
   "execution_count": 86,
   "id": "d49c4a42-3b04-4959-9e34-4d223693bc4f",
   "metadata": {},
   "outputs": [
    {
     "data": {
      "text/html": [
       "<table class=\"dataframe\">\n",
       "<caption>A matrix: 5 × 8 of type dbl</caption>\n",
       "<tbody>\n",
       "\t<tr><td> 5</td><td>30</td><td>55</td><td> 80</td><td>105</td><td>130</td><td>155</td><td>180</td></tr>\n",
       "\t<tr><td>10</td><td>35</td><td>60</td><td> 85</td><td>110</td><td>135</td><td>160</td><td>185</td></tr>\n",
       "\t<tr><td>15</td><td>40</td><td>65</td><td> 90</td><td>115</td><td>140</td><td>165</td><td>190</td></tr>\n",
       "\t<tr><td>20</td><td>45</td><td>70</td><td> 95</td><td>120</td><td>145</td><td>170</td><td>195</td></tr>\n",
       "\t<tr><td>25</td><td>50</td><td>75</td><td>100</td><td>125</td><td>150</td><td>175</td><td>200</td></tr>\n",
       "</tbody>\n",
       "</table>\n"
      ],
      "text/latex": [
       "A matrix: 5 × 8 of type dbl\n",
       "\\begin{tabular}{llllllll}\n",
       "\t  5 & 30 & 55 &  80 & 105 & 130 & 155 & 180\\\\\n",
       "\t 10 & 35 & 60 &  85 & 110 & 135 & 160 & 185\\\\\n",
       "\t 15 & 40 & 65 &  90 & 115 & 140 & 165 & 190\\\\\n",
       "\t 20 & 45 & 70 &  95 & 120 & 145 & 170 & 195\\\\\n",
       "\t 25 & 50 & 75 & 100 & 125 & 150 & 175 & 200\\\\\n",
       "\\end{tabular}\n"
      ],
      "text/markdown": [
       "\n",
       "A matrix: 5 × 8 of type dbl\n",
       "\n",
       "|  5 | 30 | 55 |  80 | 105 | 130 | 155 | 180 |\n",
       "| 10 | 35 | 60 |  85 | 110 | 135 | 160 | 185 |\n",
       "| 15 | 40 | 65 |  90 | 115 | 140 | 165 | 190 |\n",
       "| 20 | 45 | 70 |  95 | 120 | 145 | 170 | 195 |\n",
       "| 25 | 50 | 75 | 100 | 125 | 150 | 175 | 200 |\n",
       "\n"
      ],
      "text/plain": [
       "     [,1] [,2] [,3] [,4] [,5] [,6] [,7] [,8]\n",
       "[1,]  5   30   55    80  105  130  155  180 \n",
       "[2,] 10   35   60    85  110  135  160  185 \n",
       "[3,] 15   40   65    90  115  140  165  190 \n",
       "[4,] 20   45   70    95  120  145  170  195 \n",
       "[5,] 25   50   75   100  125  150  175  200 "
      ]
     },
     "metadata": {},
     "output_type": "display_data"
    }
   ],
   "source": [
    "my_matrix = matrix(seq(5, 200, 5), nrow = 5)\n",
    "my_matrix"
   ]
  },
  {
   "cell_type": "code",
   "execution_count": 94,
   "id": "82834ab1-974f-423d-9aad-38594e0ce580",
   "metadata": {},
   "outputs": [
    {
     "data": {
      "text/html": [
       "8"
      ],
      "text/latex": [
       "8"
      ],
      "text/markdown": [
       "8"
      ],
      "text/plain": [
       "[1] 8"
      ]
     },
     "metadata": {},
     "output_type": "display_data"
    },
    {
     "data": {
      "text/html": [
       "55"
      ],
      "text/latex": [
       "55"
      ],
      "text/markdown": [
       "55"
      ],
      "text/plain": [
       "[1] 55"
      ]
     },
     "metadata": {},
     "output_type": "display_data"
    },
    {
     "data": {
      "text/html": [
       "<style>\n",
       ".list-inline {list-style: none; margin:0; padding: 0}\n",
       ".list-inline>li {display: inline-block}\n",
       ".list-inline>li:not(:last-child)::after {content: \"\\00b7\"; padding: 0 .5ex}\n",
       "</style>\n",
       "<ol class=list-inline><li>5</li><li>30</li><li>55</li><li>80</li><li>105</li><li>130</li><li>155</li><li>180</li></ol>\n"
      ],
      "text/latex": [
       "\\begin{enumerate*}\n",
       "\\item 5\n",
       "\\item 30\n",
       "\\item 55\n",
       "\\item 80\n",
       "\\item 105\n",
       "\\item 130\n",
       "\\item 155\n",
       "\\item 180\n",
       "\\end{enumerate*}\n"
      ],
      "text/markdown": [
       "1. 5\n",
       "2. 30\n",
       "3. 55\n",
       "4. 80\n",
       "5. 105\n",
       "6. 130\n",
       "7. 155\n",
       "8. 180\n",
       "\n",
       "\n"
      ],
      "text/plain": [
       "[1]   5  30  55  80 105 130 155 180"
      ]
     },
     "metadata": {},
     "output_type": "display_data"
    },
    {
     "data": {
      "text/html": [
       "<style>\n",
       ".list-inline {list-style: none; margin:0; padding: 0}\n",
       ".list-inline>li {display: inline-block}\n",
       ".list-inline>li:not(:last-child)::after {content: \"\\00b7\"; padding: 0 .5ex}\n",
       "</style>\n",
       "<ol class=list-inline><li>105</li><li>110</li><li>115</li><li>120</li><li>125</li></ol>\n"
      ],
      "text/latex": [
       "\\begin{enumerate*}\n",
       "\\item 105\n",
       "\\item 110\n",
       "\\item 115\n",
       "\\item 120\n",
       "\\item 125\n",
       "\\end{enumerate*}\n"
      ],
      "text/markdown": [
       "1. 105\n",
       "2. 110\n",
       "3. 115\n",
       "4. 120\n",
       "5. 125\n",
       "\n",
       "\n"
      ],
      "text/plain": [
       "[1] 105 110 115 120 125"
      ]
     },
     "metadata": {},
     "output_type": "display_data"
    },
    {
     "data": {
      "text/html": [
       "<table class=\"dataframe\">\n",
       "<caption>A matrix: 3 × 2 of type dbl</caption>\n",
       "<tbody>\n",
       "\t<tr><td> 5</td><td>30</td></tr>\n",
       "\t<tr><td>10</td><td>35</td></tr>\n",
       "\t<tr><td>15</td><td>40</td></tr>\n",
       "</tbody>\n",
       "</table>\n"
      ],
      "text/latex": [
       "A matrix: 3 × 2 of type dbl\n",
       "\\begin{tabular}{ll}\n",
       "\t  5 & 30\\\\\n",
       "\t 10 & 35\\\\\n",
       "\t 15 & 40\\\\\n",
       "\\end{tabular}\n"
      ],
      "text/markdown": [
       "\n",
       "A matrix: 3 × 2 of type dbl\n",
       "\n",
       "|  5 | 30 |\n",
       "| 10 | 35 |\n",
       "| 15 | 40 |\n",
       "\n"
      ],
      "text/plain": [
       "     [,1] [,2]\n",
       "[1,]  5   30  \n",
       "[2,] 10   35  \n",
       "[3,] 15   40  "
      ]
     },
     "metadata": {},
     "output_type": "display_data"
    },
    {
     "data": {
      "text/html": [
       "<table class=\"dataframe\">\n",
       "<caption>A matrix: 8 × 5 of type dbl</caption>\n",
       "<tbody>\n",
       "\t<tr><td>  5</td><td> 10</td><td> 15</td><td> 20</td><td> 25</td></tr>\n",
       "\t<tr><td> 30</td><td> 35</td><td> 40</td><td> 45</td><td> 50</td></tr>\n",
       "\t<tr><td> 55</td><td> 60</td><td> 65</td><td> 70</td><td> 75</td></tr>\n",
       "\t<tr><td> 80</td><td> 85</td><td> 90</td><td> 95</td><td>100</td></tr>\n",
       "\t<tr><td>105</td><td>110</td><td>115</td><td>120</td><td>125</td></tr>\n",
       "\t<tr><td>130</td><td>135</td><td>140</td><td>145</td><td>150</td></tr>\n",
       "\t<tr><td>155</td><td>160</td><td>165</td><td>170</td><td>175</td></tr>\n",
       "\t<tr><td>180</td><td>185</td><td>190</td><td>195</td><td>200</td></tr>\n",
       "</tbody>\n",
       "</table>\n"
      ],
      "text/latex": [
       "A matrix: 8 × 5 of type dbl\n",
       "\\begin{tabular}{lllll}\n",
       "\t   5 &  10 &  15 &  20 &  25\\\\\n",
       "\t  30 &  35 &  40 &  45 &  50\\\\\n",
       "\t  55 &  60 &  65 &  70 &  75\\\\\n",
       "\t  80 &  85 &  90 &  95 & 100\\\\\n",
       "\t 105 & 110 & 115 & 120 & 125\\\\\n",
       "\t 130 & 135 & 140 & 145 & 150\\\\\n",
       "\t 155 & 160 & 165 & 170 & 175\\\\\n",
       "\t 180 & 185 & 190 & 195 & 200\\\\\n",
       "\\end{tabular}\n"
      ],
      "text/markdown": [
       "\n",
       "A matrix: 8 × 5 of type dbl\n",
       "\n",
       "|   5 |  10 |  15 |  20 |  25 |\n",
       "|  30 |  35 |  40 |  45 |  50 |\n",
       "|  55 |  60 |  65 |  70 |  75 |\n",
       "|  80 |  85 |  90 |  95 | 100 |\n",
       "| 105 | 110 | 115 | 120 | 125 |\n",
       "| 130 | 135 | 140 | 145 | 150 |\n",
       "| 155 | 160 | 165 | 170 | 175 |\n",
       "| 180 | 185 | 190 | 195 | 200 |\n",
       "\n"
      ],
      "text/plain": [
       "     [,1] [,2] [,3] [,4] [,5]\n",
       "[1,]   5   10   15   20   25 \n",
       "[2,]  30   35   40   45   50 \n",
       "[3,]  55   60   65   70   75 \n",
       "[4,]  80   85   90   95  100 \n",
       "[5,] 105  110  115  120  125 \n",
       "[6,] 130  135  140  145  150 \n",
       "[7,] 155  160  165  170  175 \n",
       "[8,] 180  185  190  195  200 "
      ]
     },
     "metadata": {},
     "output_type": "display_data"
    }
   ],
   "source": [
    "ncol(my_matrix)\n",
    "my_matrix[1, 3]\n",
    "my_matrix[1, ]\n",
    "my_matrix[, 5]\n",
    "my_matrix[1:3, 1:2]\n",
    "t(my_matrix)"
   ]
  },
  {
   "cell_type": "markdown",
   "id": "70c8ff56-5393-49b6-9d7e-12ff7154e479",
   "metadata": {},
   "source": [
    "#### Loops <a name=\"loops\"></a>\n",
    "- Concept of loops\n",
    "- How to write a for loop"
   ]
  },
  {
   "cell_type": "markdown",
   "id": "2b856a2f-137c-4d3e-99f2-007f07494cc8",
   "metadata": {
    "tags": []
   },
   "source": [
    "#### Functions <a name=\"functions\"></a>\n",
    "- Concept of functions\n",
    "- How to write a function\n",
    "- Concept of packages\n",
    "- How to load a package\n",
    "- Examples of functions (print, library, random number generation)"
   ]
  },
  {
   "cell_type": "markdown",
   "id": "8100f2fb-21ec-4abe-ada8-6245125c7fda",
   "metadata": {
    "jp-MarkdownHeadingCollapsed": true,
    "tags": []
   },
   "source": [
    "---\n",
    "## Next up ⤵️\n",
    "### [Part 3 - Using neural networks to classify handwritten digits](./3_Neural_Networks.ipynb)"
   ]
  }
 ],
 "metadata": {
  "kernelspec": {
   "display_name": "R",
   "language": "R",
   "name": "ir"
  },
  "language_info": {
   "codemirror_mode": "r",
   "file_extension": ".r",
   "mimetype": "text/x-r-source",
   "name": "R",
   "pygments_lexer": "r",
   "version": "4.1.2"
  }
 },
 "nbformat": 4,
 "nbformat_minor": 5
}
